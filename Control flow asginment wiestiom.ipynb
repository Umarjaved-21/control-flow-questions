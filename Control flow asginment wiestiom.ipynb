{
 "cells": [
  {
   "cell_type": "code",
   "execution_count": 3,
   "id": "6cba40a0-c3d6-4a7c-9c9c-a00769abb063",
   "metadata": {},
   "outputs": [
    {
     "name": "stdin",
     "output_type": "stream",
     "text": [
      "Enter a number -12\n"
     ]
    },
    {
     "name": "stdout",
     "output_type": "stream",
     "text": [
      "The given number is negative: -12.0\n"
     ]
    }
   ],
   "source": [
    "# 1. Write a Python program to check if a given number is positive or negative\n",
    "\n",
    "number = float(input(\"Enter a number\"))\n",
    "\n",
    "if number > 0 :\n",
    "    print(f\"The given number is positive: {number}\")\n",
    "    \n",
    "elif number < 0:\n",
    "    print(f\"The given number is negative: {number}\")\n",
    "    \n",
    "else:\n",
    "    print(\"The givennumber is zer0\")"
   ]
  },
  {
   "cell_type": "code",
   "execution_count": 5,
   "id": "b70d97ee-0e62-4b4d-8cb8-734af062ff1e",
   "metadata": {},
   "outputs": [
    {
     "name": "stdin",
     "output_type": "stream",
     "text": [
      "Enter a number 23\n"
     ]
    },
    {
     "name": "stdout",
     "output_type": "stream",
     "text": [
      "person is eligible for vote\n"
     ]
    }
   ],
   "source": [
    "# 2. Create a program that determines if a person is eligible to vote based on their age\n",
    "\n",
    "age = int(input(\"Enter a number\"))\n",
    "\n",
    "if age > 18 :\n",
    "    print(\"person is eligible for vote\")\n",
    "    \n",
    "else:\n",
    "    print(\"person is under age and not eloigible for vote\")"
   ]
  },
  {
   "cell_type": "code",
   "execution_count": 4,
   "id": "ea34a878-cb6b-4127-9e13-b5f1b341a9f1",
   "metadata": {},
   "outputs": [
    {
     "name": "stdin",
     "output_type": "stream",
     "text": [
      "Enter a 1st number:  2\n",
      "Enter a 2nd number:  3\n"
     ]
    },
    {
     "name": "stdout",
     "output_type": "stream",
     "text": [
      "number2 is maxim:  3\n"
     ]
    }
   ],
   "source": [
    "# 3. Develop a program to find the maximum of two numbers using if-else statements.\n",
    "\n",
    "number1 = int(input(\"Enter a 1st number: \"))\n",
    "number2 = int(input(\"Enter a 2nd number: \"))\n",
    "\n",
    "if number1 > number2:\n",
    "    max_num = number1\n",
    "    print(\"number1 is maximum number: \",max_num)\n",
    "    \n",
    "else:\n",
    "    max_num = number2\n",
    "    print(\"number2 is maxim: \",max_num)"
   ]
  },
  {
   "cell_type": "code",
   "execution_count": 6,
   "id": "2210cc30-d074-492d-9629-0fe56844e4c3",
   "metadata": {},
   "outputs": [
    {
     "name": "stdin",
     "output_type": "stream",
     "text": [
      "Enter a year:  2023\n"
     ]
    },
    {
     "name": "stdout",
     "output_type": "stream",
     "text": [
      "2023 is not a leap year.\n"
     ]
    }
   ],
   "source": [
    "# 4. Write a Python script to classify a given year as a leap year or not.\n",
    "\n",
    "year = int(input(\"Enter a year: \"))\n",
    "\n",
    "if (year % 4 == 0 and year % 100 != 0) or (year % 400 == 0):\n",
    "    print(year, \"is a leap year.\")\n",
    "else:\n",
    "    print(year, \"is not a leap year.\")\n"
   ]
  },
  {
   "cell_type": "code",
   "execution_count": 15,
   "id": "d8e20a6b-2d5e-4858-a25e-43cb1dac7233",
   "metadata": {},
   "outputs": [
    {
     "name": "stdin",
     "output_type": "stream",
     "text": [
      "Enter a single character:  u\n"
     ]
    },
    {
     "name": "stdout",
     "output_type": "stream",
     "text": [
      "the character is vowel\n"
     ]
    }
   ],
   "source": [
    "# 5. Create a program that checks whether a character is a vowel or a consonant\n",
    "characters = input(\"Enter a single character: \")\n",
    "if characters in \"AEIOUaeiou\":\n",
    "    print(\"the character is vowel\")\n",
    "    \n",
    "else:\n",
    "    print(\"charcter is a consonant\")"
   ]
  },
  {
   "cell_type": "code",
   "execution_count": 24,
   "id": "1c40d89d-39cf-4fd4-943d-0209e4de93a1",
   "metadata": {},
   "outputs": [
    {
     "name": "stdin",
     "output_type": "stream",
     "text": [
      "Enter a number 2\n"
     ]
    },
    {
     "name": "stdout",
     "output_type": "stream",
     "text": [
      "the input number is even\n"
     ]
    }
   ],
   "source": [
    "# 6. Implement a program to determine whether a given number is even or odd.\n",
    "\n",
    "number = int(input(\"Enter a number\"))\n",
    "\n",
    "if number % 2 == 0:\n",
    "    \n",
    "    print(\"the input number is even\")\n",
    "    \n",
    "else:\n",
    "    print(\"the input number is odd\")"
   ]
  },
  {
   "cell_type": "code",
   "execution_count": 40,
   "id": "d2af3cc4-945e-4c6b-8925-f57539777d5a",
   "metadata": {},
   "outputs": [
    {
     "name": "stdin",
     "output_type": "stream",
     "text": [
      "Enter a number -2\n"
     ]
    },
    {
     "name": "stdout",
     "output_type": "stream",
     "text": [
      "the absolute value is 2.0\n"
     ]
    }
   ],
   "source": [
    "# 7. Write a Python function to calculate the absolute value of a number without using the `abs()` function.\n",
    "\n",
    "number = float(input(\"Enter a number\"))\n",
    "\n",
    "if number < 0:\n",
    "    abs_value = -number\n",
    "    \n",
    "else:\n",
    "    abs_value = number\n",
    "    \n",
    "print(f\"the absolute value is {abs_value}\")"
   ]
  },
  {
   "cell_type": "code",
   "execution_count": 43,
   "id": "ffec0af9-cd09-4af9-9db8-9c3bd18aed02",
   "metadata": {},
   "outputs": [
    {
     "name": "stdin",
     "output_type": "stream",
     "text": [
      "Enter the first number:  12\n",
      "Enter the second number:  21\n",
      "Enter the third number:  23\n"
     ]
    },
    {
     "name": "stdout",
     "output_type": "stream",
     "text": [
      "the largest numbers among 3 numbers is: 23.0\n"
     ]
    }
   ],
   "source": [
    "# 8. Develop a program that determines the largest of three given numbers using if-else statements.\n",
    "\n",
    "num1 = float(input(\"Enter the first number: \"))\n",
    "num2 = float(input(\"Enter the second number: \"))\n",
    "num3 = float(input(\"Enter the third number: \"))\n",
    "\n",
    "\n",
    "if num1 > num2 and num1 > 3 :\n",
    "    largest_num = num1\n",
    "    \n",
    "elif num2> num3 and num2 > 1:\n",
    "    largest_num = num2\n",
    "    \n",
    "else:\n",
    "    largest_num = num3\n",
    "    \n",
    "print(f\"the largest numbers among 3 numbers is: {largest_num}\")"
   ]
  },
  {
   "cell_type": "code",
   "execution_count": 46,
   "id": "02d855a9-990b-47db-828c-befd8ee13bf5",
   "metadata": {},
   "outputs": [
    {
     "name": "stdin",
     "output_type": "stream",
     "text": [
      "Enter a string:  radar\n"
     ]
    },
    {
     "name": "stdout",
     "output_type": "stream",
     "text": [
      "The input string is pallindrome\n"
     ]
    }
   ],
   "source": [
    "# 9. Create a program that checks if a given string is a palindrome\n",
    "\n",
    "input_string = input(\"Enter a string: \")\n",
    "\n",
    "cleaned_string = input_string.replace(\" \", \"\").lower()\n",
    "\n",
    "reversed_string = cleaned_string[::-1]\n",
    "if cleaned_string == reversed_string:\n",
    "        print(\"The input string is pallindrome\")\n",
    "        \n",
    "else:\n",
    "            print(\"The input string is not pallindrome\")"
   ]
  },
  {
   "cell_type": "code",
   "execution_count": 48,
   "id": "d7e1e9ec-4c2f-4742-b461-d50072e2cd35",
   "metadata": {},
   "outputs": [
    {
     "name": "stdin",
     "output_type": "stream",
     "text": [
      "Enter the student's score:  80\n"
     ]
    },
    {
     "name": "stdout",
     "output_type": "stream",
     "text": [
      "The student's grade is: B\n"
     ]
    }
   ],
   "source": [
    "# 10. Write a Python program to calculate the grade based on a student's score\n",
    "\n",
    "score = float(input(\"Enter the student's score: \"))\n",
    "\n",
    "if 90 <= score <= 100:\n",
    "    grade = \"A\"\n",
    "elif 80 <= score < 90:\n",
    "    grade = \"B\"\n",
    "elif 70 <= score < 80:\n",
    "    grade = \"C\"\n",
    "elif 60 <= score < 70:\n",
    "    grade = \"D\"\n",
    "else:\n",
    "    grade = \"F\"\n",
    "\n",
    "print(f\"The student's grade is: {grade}\")\n"
   ]
  },
  {
   "cell_type": "code",
   "execution_count": 50,
   "id": "4a96de36-8b8b-4635-8eac-ee40a8dfa1f7",
   "metadata": {},
   "outputs": [
    {
     "name": "stdin",
     "output_type": "stream",
     "text": [
      "Enter the first number:  2\n",
      "Enter the second number:  3\n",
      "Enter the third number:  4\n"
     ]
    },
    {
     "name": "stdout",
     "output_type": "stream",
     "text": [
      "The largest number among the three numbers is: 4.0\n"
     ]
    }
   ],
   "source": [
    "# 11. Write a program to find the largest among three numbers using nested if-else statements.\n",
    "\n",
    "num1 = float(input(\"Enter the first number: \"))\n",
    "num2 = float(input(\"Enter the second number: \"))\n",
    "num3 = float(input(\"Enter the third number: \"))\n",
    "\n",
    "# Find the largest number using nested if-else statements\n",
    "if num1 >= num2:\n",
    "    if num1 >= num3:\n",
    "        largest = num1\n",
    "    else:\n",
    "        largest = num3\n",
    "else:\n",
    "    if num2 >= num3:\n",
    "        largest = num2\n",
    "    else:\n",
    "        largest = num3\n",
    "\n",
    "print(\"The largest number among the three numbers is:\", largest)\n"
   ]
  },
  {
   "cell_type": "code",
   "execution_count": 1,
   "id": "0fdc7bc7-f86e-40e9-a0c1-e9af347aeafa",
   "metadata": {},
   "outputs": [
    {
     "name": "stdin",
     "output_type": "stream",
     "text": [
      "Enter a first side:  12\n",
      "Enter a second side : 13\n",
      "Enter a third side:  14\n"
     ]
    },
    {
     "name": "stdout",
     "output_type": "stream",
     "text": [
      "the given triangle is a scalen triangle\n"
     ]
    }
   ],
   "source": [
    "# 12. Implement a program to determine if a triangle is equilateral, isosceles, or scalene.\n",
    "\n",
    "side1 = float(input(\"Enter a first side: \"))\n",
    "side2 = float(input(\"Enter a second side :\"))\n",
    "side3 = float(input(\"Enter a third side: \"))\n",
    "\n",
    "\n",
    "if side1 ==side2 ==side3:\n",
    "    triangle_type = \"equilateral\"\n",
    "elif side1 == side2 or side1 == side3 or side2 == side3:\n",
    "        triangle_type = \"isoseles\"\n",
    "else:\n",
    "    triangle_type = \"scalen\"\n",
    "    \n",
    "valid_triangle = side1 + side2 > side3 and side1 + side3 > side2 and side2 +side3 > side1\n",
    "\n",
    "if valid_triangle:\n",
    "    print(f\"the given triangle is a {triangle_type} triangle\")\n",
    "    \n",
    "else:\n",
    "    print(\"triangle is not avalid\")"
   ]
  },
  {
   "cell_type": "code",
   "execution_count": 37,
   "id": "dcb73809-c88d-4ee1-b6cb-b11182adcd67",
   "metadata": {},
   "outputs": [
    {
     "name": "stdin",
     "output_type": "stream",
     "text": [
      "Enter a year:  2024\n"
     ]
    },
    {
     "name": "stdout",
     "output_type": "stream",
     "text": [
      "2024 is a leap year.\n",
      "2024 is not a century year.\n"
     ]
    }
   ],
   "source": [
    "# 13. Develop a program that checks if a year is a leap year and also if it is a century year.\n",
    "\n",
    "\n",
    "year = int(input(\"Enter a year: \"))\n",
    "\n",
    "if (year % 4 == 0 and year % 100 != 0) or (year % 400 == 0):\n",
    "    print(f\"{year} is a leap year.\")\n",
    "else:\n",
    "    print(f\"{year} is not a leap year.\")\n",
    "\n",
    "# Check if it's a century year\n",
    "if year % 100 == 0:\n",
    "    print(f\"{year} is a century year.\")\n",
    "else:\n",
    "    print(f\"{year} is not a century year.\")\n"
   ]
  },
  {
   "cell_type": "code",
   "execution_count": 6,
   "id": "9212f562-3d31-470b-a382-282360e52da2",
   "metadata": {},
   "outputs": [
    {
     "name": "stdin",
     "output_type": "stream",
     "text": [
      "Enter a year:  2024\n"
     ]
    },
    {
     "name": "stdout",
     "output_type": "stream",
     "text": [
      "2024 is a leap year.\n",
      "2024 is not a century year.\n"
     ]
    }
   ],
   "source": [
    "# 14. Write a Python script to determine if a number is positive, negative, or zero\n",
    "\n",
    "year = int(input(\"Enter a year: \"))\n",
    "\n",
    "if (year % 4 == 0 and year % 100 != 0) or (year % 400 == 0):\n",
    "    print(f\"{year} is a leap year.\")\n",
    "else:\n",
    "    print(f\"{year} is not a leap year.\")\n",
    "\n",
    "if year % 100 == 0:\n",
    "    print(f\"{year} is a century year.\")\n",
    "else:\n",
    "    print(f\"{year} is not a century year.\")\n"
   ]
  },
  {
   "cell_type": "code",
   "execution_count": 10,
   "id": "c793d0e3-286e-4bc4-be59-1e15e019a8af",
   "metadata": {},
   "outputs": [
    {
     "name": "stdin",
     "output_type": "stream",
     "text": [
      "Enter a number 0\n"
     ]
    },
    {
     "name": "stdout",
     "output_type": "stream",
     "text": [
      "number is zero\n"
     ]
    }
   ],
   "source": [
    "# 14. Write a Python script to determine if a number is positive, negative, or zero\n",
    "\n",
    "number = float(input(\"Enter a number\"))\n",
    "\n",
    "if number > 0:\n",
    "    print(\"number is positive\")\n",
    "    \n",
    "elif number < 0:\n",
    "    print(\"number is negative\")\n",
    "    \n",
    "else:\n",
    "    print(\"number is zero\")"
   ]
  },
  {
   "cell_type": "code",
   "execution_count": 13,
   "id": "30090a1d-c07b-448d-bf80-0460d4feffb3",
   "metadata": {},
   "outputs": [
    {
     "name": "stdin",
     "output_type": "stream",
     "text": [
      "Enetr a age 15\n"
     ]
    },
    {
     "name": "stdout",
     "output_type": "stream",
     "text": [
      "The user is a teenager\n"
     ]
    }
   ],
   "source": [
    "# 15. Create a program to check if a person is a teenager (between 13 and 19 years old).\n",
    "\n",
    "\n",
    "age = int(input(\"Enetr a age\"))\n",
    "\n",
    "if 13<= age <= 19:\n",
    "    print(\"The user is a teenager\")\n",
    "    \n",
    "else:\n",
    "    print(\"user ia not a teenager\")"
   ]
  },
  {
   "cell_type": "code",
   "execution_count": 19,
   "id": "19018585-8f17-419f-8b61-2d84e9da5565",
   "metadata": {},
   "outputs": [
    {
     "name": "stdin",
     "output_type": "stream",
     "text": [
      "Enter a angle 200\n"
     ]
    },
    {
     "name": "stdout",
     "output_type": "stream",
     "text": [
      "angle is not valid for above situation\n"
     ]
    }
   ],
   "source": [
    "# 16. Develop a program that determines the type of angle based on its measure (acute, obtuse, or right).\n",
    "\n",
    "angle = float(input(\"Enter a angle\"))\n",
    "\n",
    "if angle < 90:\n",
    "    print(\"angle is acute angle\")\n",
    "elif angle > 90 and angle < 180:\n",
    "    print(\"angle is obtuse angle\")\n",
    "elif angle == 90:\n",
    "    print(\"angle is right angle\")\n",
    "    \n",
    "else:\n",
    "    print(\"angle is not valid for above situation\")"
   ]
  },
  {
   "cell_type": "code",
   "execution_count": 24,
   "id": "28e621f5-50a7-4bca-9542-c879fe73595f",
   "metadata": {},
   "outputs": [
    {
     "name": "stdin",
     "output_type": "stream",
     "text": [
      "Enter the coefficient of a:  2\n",
      "Enter the coefficient of b:  4\n",
      "Enter the coefficient of c:  8\n"
     ]
    },
    {
     "name": "stdout",
     "output_type": "stream",
     "text": [
      "the root are complex: -1.0 + 4.47213595499958i and -1.0 - 4.47213595499958i\n"
     ]
    }
   ],
   "source": [
    "# 17. Write a Python program to calculate the roots of a quadratic equation.\n",
    "\n",
    "import math\n",
    "\n",
    "a = float(input(\"Enter the coefficient of a: \"))\n",
    "b = float(input(\"Enter the coefficient of b: \"))\n",
    "c = float(input(\"Enter the coefficient of c: \"))\n",
    "\n",
    "discriminant = -b**2 - 4*a*c\n",
    "\n",
    "if discriminant > 0:\n",
    "    root1 = (-b + math.sqrt(discriminant) / (2*a))\n",
    "    root2 = (-b + math.sqrt(discriminant) / (2*a))\n",
    "    print(f\"the root are real and ditinct: {root1} and {root2}\")\n",
    "    \n",
    "elif discriminant == 0:\n",
    "    root1 = -b/(2*a)\n",
    "    prnit(f\"the root are real and equal: {root1}\")\n",
    "else:\n",
    "    real_part = -b/(2*a)\n",
    "    imaginary_part = math.sqrt(abs(discriminant)/(2*a))\n",
    "    \n",
    "    print(f\"the root are complex: {real_part} + {imaginary_part}i and {real_part} - {imaginary_part}i\")"
   ]
  },
  {
   "cell_type": "code",
   "execution_count": 28,
   "id": "7327e265-2dc1-4b6a-a775-5f32f087e79f",
   "metadata": {},
   "outputs": [
    {
     "name": "stdin",
     "output_type": "stream",
     "text": [
      "Enter a number which is detrmine the day of the week 2\n"
     ]
    },
    {
     "name": "stdout",
     "output_type": "stream",
     "text": [
      "the day is Tueday\n"
     ]
    }
   ],
   "source": [
    "# 18. Implement a program to determine the day of the week based on a user-provided number (1 for Monday, 2\n",
    "# for Tuesday, etc.).\n",
    "\n",
    "user_input = int(input(\"Enter a number which is detrmine the day of the week\"))\n",
    "\n",
    "week_days = [\"Monday\",\"Tueday\",\"Wednesday\",\"thursday\",\"Friday\",\"Saturday\",\"Sunday\"]\n",
    "\n",
    "if 1<= user_input <=7:\n",
    "    day = week_days[user_input - 1]\n",
    "    print(f\"the day is {day}\")\n",
    "    \n",
    "else:\n",
    "    (\"the number which is entered by you is not satisfied the condition please enter number between 1 and 7\")"
   ]
  },
  {
   "cell_type": "code",
   "execution_count": 30,
   "id": "1c56736f-ca20-4ad2-b0ea-cf0236e2fd35",
   "metadata": {},
   "outputs": [
    {
     "name": "stdin",
     "output_type": "stream",
     "text": [
      "Enter a year:  2024\n"
     ]
    },
    {
     "name": "stdout",
     "output_type": "stream",
     "text": [
      "2024 is a leap year and is evenly divisible by 400.\n"
     ]
    }
   ],
   "source": [
    "# 19. Create a program that determines if a year is a leap year and also if it is evenly divisible by 400.\n",
    "\n",
    "year = int(input(\"Enter a year: \"))\n",
    "\n",
    "if year % 4 == 0 and (year % 100 != 0 or year % 400 == 0):\n",
    "    print(f\"{year} is a leap year and is evenly divisible by 400.\")\n",
    "else:\n",
    "    print(f\"{year} is not a leap year or is not evenly divisible by 400.\")\n"
   ]
  },
  {
   "cell_type": "code",
   "execution_count": null,
   "id": "52ed85a5-dcbf-4faf-86ab-99bdcbd51945",
   "metadata": {},
   "outputs": [
    {
     "name": "stdin",
     "output_type": "stream",
     "text": [
      "enter a number 1\n"
     ]
    },
    {
     "name": "stdout",
     "output_type": "stream",
     "text": [
      "this is not a prime number\n"
     ]
    }
   ],
   "source": [
    "# 20. Develop a program that checks if a given number is prime or not using nested if-else statements\n",
    "\n",
    "number = int(input(\"enter a number\"))\n",
    "\n",
    "if number < 2:\n",
    "    print(\"this is not a prime number\")\n",
    "    \n",
    "else:\n",
    "    is_prime = True\n",
    "    for i in range(2,number):\n",
    "        if number%i == 0:\n",
    "            is_prime = False\n",
    "            break\n",
    "            \n",
    "    if is_prime:\n",
    "        print(f\"{number} is a prime number.\")\n",
    "    else:\n",
    "        print(f\"{number} is not a prime number.\")"
   ]
  },
  {
   "cell_type": "code",
   "execution_count": 1,
   "id": "ab66ab6e-3e86-4f6e-8a35-0fb77ef2da52",
   "metadata": {},
   "outputs": [
    {
     "name": "stdin",
     "output_type": "stream",
     "text": [
      "Enter the student's score:  67\n"
     ]
    },
    {
     "name": "stdout",
     "output_type": "stream",
     "text": [
      "The student's grade is: D\n"
     ]
    }
   ],
   "source": [
    "# 21. Write a Python program to assign grades based on different ranges of scores using elif statements.\n",
    "\n",
    "score = float(input(\"Enter the student's score: \"))\n",
    "\n",
    "if 90 <= score <= 100:\n",
    "    grade = \"A\"\n",
    "elif 80 <= score < 90:\n",
    "    grade = \"B\"\n",
    "elif 70 <= score < 80:\n",
    "    grade = \"C\"\n",
    "elif 60 <= score < 70:\n",
    "    grade = \"D\"\n",
    "else:\n",
    "    grade = \"F\"\n",
    "\n",
    "print(f\"The student's grade is: {grade}\")\n"
   ]
  },
  {
   "cell_type": "code",
   "execution_count": 2,
   "id": "e14f8c0a-32fa-40d4-9fdf-59c511488b3d",
   "metadata": {},
   "outputs": [
    {
     "name": "stdin",
     "output_type": "stream",
     "text": [
      "Enter a angle 80\n"
     ]
    },
    {
     "name": "stdout",
     "output_type": "stream",
     "text": [
      "angle is acute angle\n"
     ]
    }
   ],
   "source": [
    "# 22. Implement a program to determine the type of a triangle based on its angles.\n",
    "\n",
    "angle = float(input(\"Enter a angle\"))\n",
    "\n",
    "if angle < 90:\n",
    "    print(\"angle is acute angle\")\n",
    "elif angle > 90 and angle < 180:\n",
    "    print(\"angle is obtuse angle\")\n",
    "elif angle == 90:\n",
    "    print(\"angle is right angle\")\n",
    "    \n",
    "else:\n",
    "    print(\"angle is not valid for above situation\")"
   ]
  },
  {
   "cell_type": "code",
   "execution_count": 7,
   "id": "68686c3c-a6af-4511-8eca-5addc780c6f6",
   "metadata": {},
   "outputs": [
    {
     "name": "stdin",
     "output_type": "stream",
     "text": [
      "Enter your height (in cm):  125\n",
      "Enter your weight (in kilograms):  70\n"
     ]
    },
    {
     "name": "stdout",
     "output_type": "stream",
     "text": [
      "Your BMI is 0.00, and you are categorized as 'Underweight'.\n"
     ]
    }
   ],
   "source": [
    "# 23. Develop a program to categorize a given person's BMI into underweight, normal, overweight, or obese using\n",
    "# elif statements\n",
    "\n",
    "height = float(input(\"Enter your height (in cm): \"))\n",
    "weight = float(input(\"Enter your weight (in kilograms): \"))\n",
    "\n",
    "bmi = weight / (height ** 2)\n",
    "\n",
    "if bmi < 18.5:\n",
    "    category = \"Underweight\"\n",
    "elif 18.5 <= bmi < 25:\n",
    "    category = \"Normal Weight\"\n",
    "elif 25 <= bmi < 30:\n",
    "    category = \"Overweight\"\n",
    "else:\n",
    "    category = \"Obese\"\n",
    "\n",
    "\n",
    "print(f\"Your BMI is {bmi:.2f}, and you are categorized as '{category}'.\")\n"
   ]
  },
  {
   "cell_type": "code",
   "execution_count": 8,
   "id": "455dabbe-9f5a-4a49-a585-3d5d82802c13",
   "metadata": {},
   "outputs": [
    {
     "name": "stdin",
     "output_type": "stream",
     "text": [
      "Enter a number 8\n"
     ]
    },
    {
     "name": "stdout",
     "output_type": "stream",
     "text": [
      "number is positive\n"
     ]
    }
   ],
   "source": [
    "# 24. Create a program that determines whether a given number is positive, negative, or zero using elif\n",
    "# statements\n",
    "\n",
    "number = float(input(\"Enter a number\"))\n",
    "\n",
    "if number > 0:\n",
    "    print(\"number is positive\")\n",
    "    \n",
    "elif number < 0:\n",
    "    print(\"number is negative\")\n",
    "    \n",
    "else:\n",
    "    print(\"number is zero\")"
   ]
  },
  {
   "cell_type": "code",
   "execution_count": 13,
   "id": "cb1f858d-964b-40e9-aedf-e253d00d033a",
   "metadata": {},
   "outputs": [
    {
     "name": "stdin",
     "output_type": "stream",
     "text": [
      "Enter a character:  k\n"
     ]
    },
    {
     "name": "stdout",
     "output_type": "stream",
     "text": [
      "The character 'k' is a Lowercase character.\n"
     ]
    }
   ],
   "source": [
    "# 25. Write a Python script to determine the type of a character (uppercase, lowercase, or special) using elif\n",
    "# statements.\n",
    "\n",
    "\n",
    "character = input(\"Enter a character: \")\n",
    "\n",
    "if character.isalpha():\n",
    "    if character.islower():\n",
    "        character_type = \"Lowercase\"\n",
    "    else:\n",
    "        character_type = \"Uppercase\"\n",
    "else:\n",
    "    character_type = \"Special character\"\n",
    "\n",
    "print(f\"The character '{character}' is a {character_type} character.\")\n"
   ]
  },
  {
   "cell_type": "code",
   "execution_count": 2,
   "id": "2c0d0392-2393-4119-bf2c-4cd81bc072fb",
   "metadata": {},
   "outputs": [
    {
     "name": "stdin",
     "output_type": "stream",
     "text": [
      "Enter a price of the product 150\n"
     ]
    },
    {
     "name": "stdout",
     "output_type": "stream",
     "text": [
      "Original price: 150.00\n",
      "Discounted price: 120.00\n"
     ]
    }
   ],
   "source": [
    "# 26. Implement a program to calculate the discounted price based on different purchase amounts using elif\n",
    "# statements.\n",
    "\n",
    "price = float(input(\"Enter a price of the product\"))\n",
    "\n",
    "if price < 100:\n",
    "    discount = 0.10  \n",
    "elif 100 <= price <= 500:\n",
    "    discount = 0.20  \n",
    "else:\n",
    "    discount = 0.30\n",
    "    \n",
    "discounted_price = price - (price * discount)\n",
    "\n",
    "print(f\"Original price: {price:.2f}\")\n",
    "print(f\"Discounted price: {discounted_price:.2f}\")\n",
    "\n",
    "    "
   ]
  },
  {
   "cell_type": "code",
   "execution_count": 6,
   "id": "74f07e3b-b856-469d-9bf6-6c352c1e3b7e",
   "metadata": {},
   "outputs": [
    {
     "name": "stdin",
     "output_type": "stream",
     "text": [
      "Enter electricity consumption (in kWh):  350\n"
     ]
    },
    {
     "name": "stdout",
     "output_type": "stream",
     "text": [
      "Electricity consumption: 350.0 kWh\n",
      "Electricity bill: 2450.00\n"
     ]
    }
   ],
   "source": [
    "# 27. Develop a program to calculate the electricity bill based on different consumption slabs using elif\n",
    "# statements.\n",
    "\n",
    "consumption = float(input(\"Enter electricity consumption (in kWh): \"))\n",
    "\n",
    "slab1_limit = 100  \n",
    "slab2_limit = 300  \n",
    "slab3_limit = 500  \n",
    "\n",
    "rate_slab1 = 7 \n",
    "rate_slab2 = 7  \n",
    "rate_slab3 = 7  \n",
    "\n",
    "if consumption <= slab1_limit:\n",
    "    bill = consumption * rate_slab1\n",
    "elif consumption <= slab2_limit:\n",
    "    bill = (slab1_limit * rate_slab1) + ((consumption - slab1_limit) * rate_slab2)\n",
    "elif consumption <= slab3_limit:\n",
    "    bill = (slab1_limit * rate_slab1) + ((slab2_limit - slab1_limit) * rate_slab2) + ((consumption - slab2_limit) * rate_slab3)\n",
    "else:\n",
    "    bill = consumption * rate_slab3\n",
    "\n",
    "print(f\"Electricity consumption: {consumption} kWh\")\n",
    "print(f\"Electricity bill: {bill:.2f}\")\n"
   ]
  },
  {
   "cell_type": "code",
   "execution_count": 3,
   "id": "540684e0-712d-4355-b1d5-57196e8aa674",
   "metadata": {
    "jp-MarkdownHeadingCollapsed": true,
    "tags": []
   },
   "outputs": [
    {
     "name": "stdin",
     "output_type": "stream",
     "text": [
      "Enter the first angle (in degrees):  90\n",
      "Enter the second angle (in degrees):  90\n",
      "Enter the third angle (in degrees):  90\n",
      "Enter the fourth angle (in degrees):  90\n",
      "Enter the length of the first side:  4\n",
      "Enter the length of the second side:  4\n",
      "Enter the length of the third side:  4\n",
      "Enter the length of the fourth side:  4\n"
     ]
    },
    {
     "name": "stdout",
     "output_type": "stream",
     "text": [
      "This is a Square.\n"
     ]
    }
   ],
   "source": [
    "# 28. Create a program to determine the type of quadrilateral based on its angles and sides using elif\n",
    "# statements.\n",
    "\n",
    "angle1 = int(input(\"Enter the first angle (in degrees): \"))\n",
    "angle2 = int(input(\"Enter the second angle (in degrees): \"))\n",
    "angle3 = int(input(\"Enter the third angle (in degrees): \"))\n",
    "angle4 = int(input(\"Enter the fourth angle (in degrees): \"))\n",
    "side1 = float(input(\"Enter the length of the first side: \"))\n",
    "side2 = float(input(\"Enter the length of the second side: \"))\n",
    "side3 = float(input(\"Enter the length of the third side: \"))\n",
    "side4 = float(input(\"Enter the length of the fourth side: \"))\n",
    "\n",
    "if angle1 == angle2 == angle3 == angle4 == 90:\n",
    "    if side1 == side2 == side3 == side4:\n",
    "        quadrilateral_type = \"Square\"\n",
    "    else:\n",
    "        quadrilateral_type = \"Rectangle\"\n",
    "elif (angle1 == angle2 == angle3 == angle4 == 90) or (side1 == side2 == side3 == side4):\n",
    "    quadrilateral_type = \"Rhombus\"\n",
    "elif (angle1 == angle3) and (angle2 == angle4) and (side1 == side3) and (side2 == side4):\n",
    "    quadrilateral_type = \"Parallelogram\"\n",
    "elif (angle1 == angle3) and (angle2 == angle4) and (side1 == side2) and (side3 == side4):\n",
    "    quadrilateral_type = \"Kite\"\n",
    "else:\n",
    "    quadrilateral_type = \"Quadrilateral (unclassified)\"\n",
    "\n",
    "print(f\"This is a {quadrilateral_type}.\")\n"
   ]
  },
  {
   "cell_type": "code",
   "execution_count": 4,
   "id": "e0b03574-a9b5-4993-adb9-35dc69028269",
   "metadata": {},
   "outputs": [
    {
     "name": "stdin",
     "output_type": "stream",
     "text": [
      "Enter a month (e.g., January, February, etc.):  october\n"
     ]
    },
    {
     "name": "stdout",
     "output_type": "stream",
     "text": [
      "The season for October is Autumn (Fall).\n"
     ]
    }
   ],
   "source": [
    "# 29. Write a Python script to determine the season based on a user-provided month using elif statements.\n",
    "\n",
    "month = input(\"Enter a month (e.g., January, February, etc.): \")\n",
    "\n",
    "month = month.lower()\n",
    "\n",
    "if month in [\"march\", \"april\", \"may\"]:\n",
    "    season = \"Spring\"\n",
    "elif month in [\"june\", \"july\", \"august\"]:\n",
    "    season = \"Summer\"\n",
    "elif month in [\"september\", \"october\", \"november\"]:\n",
    "    season = \"Autumn (Fall)\"\n",
    "elif month in [\"december\", \"january\", \"february\"]:\n",
    "    season = \"Winter\"\n",
    "else:\n",
    "    season = \"Unknown\"\n",
    "\n",
    "if season == \"Unknown\":\n",
    "    print(\"Invalid input. Please enter a valid month.\")\n",
    "else:\n",
    "    print(f\"The season for {month.capitalize()} is {season}.\")\n"
   ]
  },
  {
   "cell_type": "code",
   "execution_count": 8,
   "id": "b681616f-06f3-4576-b5bf-1ad8c3468aff",
   "metadata": {},
   "outputs": [
    {
     "name": "stdin",
     "output_type": "stream",
     "text": [
      "Enter a year:  2024\n",
      "Enter a month (e.g., January, February, etc.):  october\n"
     ]
    },
    {
     "name": "stdout",
     "output_type": "stream",
     "text": [
      "October in 2024 has 31 days.\n",
      "2024 is a leap year.\n"
     ]
    }
   ],
   "source": [
    "# 30. Implement a program to determine the type of a year (leap or common) and month (30 or 31 days) using\n",
    "# elif statements.\n",
    "\n",
    "year = int(input(\"Enter a year: \"))\n",
    "month = input(\"Enter a month (e.g., January, February, etc.): \")\n",
    "\n",
    "month = month.lower()\n",
    "\n",
    "is_leap_year = (year % 4 == 0 and year % 100 != 0) or (year % 400 == 0)\n",
    "\n",
    "if month in [\"january\", \"march\", \"may\", \"july\", \"august\", \"october\", \"december\"]:\n",
    "    days_in_month = 31\n",
    "elif month in [\"april\", \"june\", \"september\", \"november\"]:\n",
    "    days_in_month = 30\n",
    "elif month == \"february\":\n",
    "    days_in_month = 29 if is_leap_year else 28\n",
    "else:\n",
    "    days_in_month = None\n",
    "\n",
    "if days_in_month is not None:\n",
    "    print(f\"{month.capitalize()} in {year} has {days_in_month} days.\")\n",
    "    if is_leap_year:\n",
    "        print(f\"{year} is a leap year.\")\n",
    "    else:\n",
    "        print(f\"{year} is a common year.\")\n",
    "else:\n",
    "    print(\"Invalid input. Please enter a valid month.\")\n"
   ]
  },
  {
   "cell_type": "code",
   "execution_count": 1,
   "id": "61ba2f20-7d94-4430-a382-a2347060e4d4",
   "metadata": {},
   "outputs": [
    {
     "name": "stdin",
     "output_type": "stream",
     "text": [
      "Enter a number 12\n"
     ]
    },
    {
     "name": "stdout",
     "output_type": "stream",
     "text": [
      "number is positive\n"
     ]
    }
   ],
   "source": [
    "# 1. Write a Python program that checks if a given number is positive, negative, or zero.\n",
    "\n",
    "number = float(input(\"Enter a number\"))\n",
    "\n",
    "if number > 0:\n",
    "    print(\"number is positive\")\n",
    "    \n",
    "elif number < 0:\n",
    "    print(\"number is negative\")\n",
    "    \n",
    "else:\n",
    "    print(\"number is zero\")"
   ]
  },
  {
   "cell_type": "code",
   "execution_count": 3,
   "id": "4fceb85e-0f90-4837-a9e3-cdca8912fc4a",
   "metadata": {},
   "outputs": [
    {
     "name": "stdin",
     "output_type": "stream",
     "text": [
      "Enter a age  25\n"
     ]
    },
    {
     "name": "stdout",
     "output_type": "stream",
     "text": [
      "person is eligible for vote\n"
     ]
    }
   ],
   "source": [
    "# 2. Create a program to determine if a person is eligible to vote based on their age.\n",
    "\n",
    "age = int(input(\"Enter a age \"))\n",
    "\n",
    "if age > 18 :\n",
    "    print(\"person is eligible for vote\")\n",
    "    \n",
    "else:\n",
    "    print(\"person is under age and not eloigible for vote\")"
   ]
  },
  {
   "cell_type": "code",
   "execution_count": 5,
   "id": "979b400a-74c3-4e52-9732-1d7c6529068e",
   "metadata": {},
   "outputs": [
    {
     "name": "stdin",
     "output_type": "stream",
     "text": [
      "Enter a 1st number:  25\n",
      "Enter a 2nd number:  26\n"
     ]
    },
    {
     "name": "stdout",
     "output_type": "stream",
     "text": [
      "number2 is maxim:  26\n"
     ]
    }
   ],
   "source": [
    "# 3. Write a program to find the maximum of two given numbers using conditional statements.\n",
    "\n",
    "number1 = int(input(\"Enter a 1st number: \"))\n",
    "number2 = int(input(\"Enter a 2nd number: \"))\n",
    "\n",
    "if number1 > number2:\n",
    "    max_num = number1\n",
    "    print(\"number1 is maximum number: \",max_num)\n",
    "    \n",
    "else:\n",
    "    max_num = number2\n",
    "    print(\"number2 is maxim: \",max_num)"
   ]
  },
  {
   "cell_type": "code",
   "execution_count": 6,
   "id": "f324dca0-7cb3-4034-8115-d60ce17ce672",
   "metadata": {},
   "outputs": [
    {
     "name": "stdin",
     "output_type": "stream",
     "text": [
      "Enter the student's score:  98\n"
     ]
    },
    {
     "name": "stdout",
     "output_type": "stream",
     "text": [
      "The student's grade is: A\n"
     ]
    }
   ],
   "source": [
    "# 4. Develop a program that calculates the grade of a student based on their exam score.\n",
    "\n",
    "score = float(input(\"Enter the student's score: \"))\n",
    "\n",
    "if 90 <= score <= 100:\n",
    "    grade = \"A\"\n",
    "elif 80 <= score < 90:\n",
    "    grade = \"B\"\n",
    "elif 70 <= score < 80:\n",
    "    grade = \"C\"\n",
    "elif 60 <= score < 70:\n",
    "    grade = \"D\"\n",
    "else:\n",
    "    grade = \"F\"\n",
    "\n",
    "print(f\"The student's grade is: {grade}\")"
   ]
  },
  {
   "cell_type": "code",
   "execution_count": 1,
   "id": "f9419c03-7b9a-449f-88e4-22c5858f54a7",
   "metadata": {},
   "outputs": [
    {
     "name": "stdin",
     "output_type": "stream",
     "text": [
      "Enter a year:  2024\n"
     ]
    },
    {
     "name": "stdout",
     "output_type": "stream",
     "text": [
      "2024 is a leap year.\n"
     ]
    }
   ],
   "source": [
    "# 5. Create a program that checks if a year is a leap year or not.\n",
    "\n",
    "year = int(input(\"Enter a year: \"))\n",
    "\n",
    "if (year % 4 == 0 and year % 100 != 0) or (year % 400 == 0):\n",
    "    print(f\"{year} is a leap year.\")"
   ]
  },
  {
   "cell_type": "code",
   "execution_count": 16,
   "id": "d7e8d14a-7332-424d-afc3-78b5f4bf5f41",
   "metadata": {},
   "outputs": [
    {
     "name": "stdin",
     "output_type": "stream",
     "text": [
      "Enter the length of the first side:  12\n",
      "Enter the length of the second side:  13\n",
      "Enter the length of the third side:  14\n",
      "Enter the length of the fourth side:  15\n"
     ]
    },
    {
     "name": "stdout",
     "output_type": "stream",
     "text": [
      "This is a Quadrilateral (unclassified).\n"
     ]
    }
   ],
   "source": [
    "# 6. Write a program to classify a triangle based on its sides' lengths.\n",
    "\n",
    "side1 = float(input(\"Enter the length of the first side: \"))\n",
    "side2 = float(input(\"Enter the length of the second side: \"))\n",
    "side3 = float(input(\"Enter the length of the third side: \"))\n",
    "side4 = float(input(\"Enter the length of the fourth side: \"))\n",
    "\n",
    "if side1 == side2 == side3 == side4:\n",
    "    quadrilateral_type = \"Square\"\n",
    "elif side1 == side2 and side3 == side4:\n",
    "    quadrilateral_type = \"Rectangle\"\n",
    "elif side1 == side3 and side2 == side4:\n",
    "    quadrilateral_type = \"Rectangle\"\n",
    "elif side1 == side4 and side2 == side3:\n",
    "    quadrilateral_type = \"Rectangle\"\n",
    "elif side1 == side2 == side3 or side1 == side2 == side4 or side1 == side3 == side4 or side2 == side3 == side4:\n",
    "    quadrilateral_type = \"Rhombus\"\n",
    "elif (side1 == side3 and side2 == side4) or (side1 == side2 and side3 == side4):\n",
    "    quadrilateral_type = \"Parallelogram\"\n",
    "elif (side1 == side2 and side3 != side4) or (side1 == side3 and side2 != side4) or (side1 == side4 and side2 != side3):\n",
    "    quadrilateral_type = \"Kite\"\n",
    "else:\n",
    "    quadrilateral_type = \"Quadrilateral (unclassified)\"\n",
    "\n",
    "print(f\"This is a {quadrilateral_type}.\")\n",
    "\n"
   ]
  },
  {
   "cell_type": "code",
   "execution_count": 1,
   "id": "fbd3dbf9-6a0c-47ef-9b36-7d880dbf4111",
   "metadata": {},
   "outputs": [
    {
     "name": "stdin",
     "output_type": "stream",
     "text": [
      "Enter the first number:  76\n",
      "Enter the second number:  84\n",
      "Enter the third number:  23\n"
     ]
    },
    {
     "name": "stdout",
     "output_type": "stream",
     "text": [
      "the largest numbers among 3 numbers is: 84.0\n"
     ]
    }
   ],
   "source": [
    "# 7. Build a program that determines the largest of three given numbers.\n",
    "\n",
    "num1 = float(input(\"Enter the first number: \"))\n",
    "num2 = float(input(\"Enter the second number: \"))\n",
    "num3 = float(input(\"Enter the third number: \"))\n",
    "\n",
    "\n",
    "if num1 > num2 and num1 > 3 :\n",
    "    largest_num = num1\n",
    "    \n",
    "elif num2> num3 and num2 > 1:\n",
    "    largest_num = num2\n",
    "    \n",
    "else:\n",
    "    largest_num = num3\n",
    "    \n",
    "print(f\"the largest numbers among 3 numbers is: {largest_num}\")"
   ]
  },
  {
   "cell_type": "code",
   "execution_count": 2,
   "id": "1fe17985-13a0-4c17-b962-e10500a563c4",
   "metadata": {},
   "outputs": [
    {
     "name": "stdin",
     "output_type": "stream",
     "text": [
      "Enter a single character:  v\n"
     ]
    },
    {
     "name": "stdout",
     "output_type": "stream",
     "text": [
      "charcter is a consonant\n"
     ]
    }
   ],
   "source": [
    "# 8. Develop a program that checks whether a character is a vowel or a consonant.\n",
    "\n",
    "characters = input(\"Enter a single character: \")\n",
    "if characters in \"AEIOUaeiou\":\n",
    "    print(\"the character is vowel\")\n",
    "    \n",
    "else:\n",
    "    print(\"charcter is a consonant\")"
   ]
  },
  {
   "cell_type": "code",
   "execution_count": 2,
   "id": "d262f43e-8174-4cfa-9ae2-fe6e579cd4d8",
   "metadata": {},
   "outputs": [
    {
     "name": "stdout",
     "output_type": "stream",
     "text": [
      "Total Cost of the Shopping Cart: 68.50\n"
     ]
    }
   ],
   "source": [
    "# 9. Create a program to calculate the total cost of a shopping cart based on discounts.\n",
    "\n",
    "shopping_cart = [\n",
    "    {\"name\": \"Item A\", \"price\": 10.0, \"quantity\": 3},\n",
    "    {\"name\": \"Item B\", \"price\": 5.0, \"quantity\": 2},\n",
    "    {\"name\": \"Item C\", \"price\": 8.0, \"quantity\": 4},\n",
    "]\n",
    "\n",
    "discount_rules = [\n",
    "    {\"item_name\": \"Item A\", \"min_quantity\": 3, \"discount_percent\": 10},\n",
    "    {\"item_name\": \"Item B\", \"min_quantity\": 2, \"discount_percent\": 5},\n",
    "]\n",
    "\n",
    "total_cost = 0\n",
    "\n",
    "for item in shopping_cart:\n",
    "    name = item[\"name\"]\n",
    "    price = item[\"price\"]\n",
    "    quantity = item[\"quantity\"]\n",
    "\n",
    "    for rule in discount_rules:\n",
    "        if name == rule[\"item_name\"] and quantity >= rule[\"min_quantity\"]:\n",
    "            discount = (price * rule[\"discount_percent\"] / 100) * quantity\n",
    "            total_cost += (price * quantity) - discount\n",
    "            break\n",
    "    else:\n",
    "        total_cost += price * quantity\n",
    "\n",
    "print(f\"Total Cost of the Shopping Cart: {total_cost:.2f}\")\n"
   ]
  },
  {
   "cell_type": "code",
   "execution_count": 3,
   "id": "06b9e04d-e2b3-4a7a-88db-2d4e0e2c5fe7",
   "metadata": {},
   "outputs": [
    {
     "name": "stdin",
     "output_type": "stream",
     "text": [
      "Enter a number 65\n"
     ]
    },
    {
     "name": "stdout",
     "output_type": "stream",
     "text": [
      "the input number is odd\n"
     ]
    }
   ],
   "source": [
    "# 10. Write a program that checks if a given number is even or odd.\n",
    "\n",
    "number = int(input(\"Enter a number\"))\n",
    "\n",
    "if number % 2 == 0:\n",
    "    \n",
    "    print(\"the input number is even\")\n",
    "    \n",
    "else:\n",
    "    print(\"the input number is odd\")"
   ]
  },
  {
   "cell_type": "code",
   "execution_count": 4,
   "id": "36eaed14-ac97-48b2-89ba-8b3f8530abb4",
   "metadata": {},
   "outputs": [
    {
     "name": "stdin",
     "output_type": "stream",
     "text": [
      "Enter the coefficient of a:  23\n",
      "Enter the coefficient of b:  21\n",
      "Enter the coefficient of c:  2\n"
     ]
    },
    {
     "name": "stdout",
     "output_type": "stream",
     "text": [
      "the root are complex: -0.45652173913043476 + 3.6860489038724285i and -0.45652173913043476 - 3.6860489038724285i\n"
     ]
    }
   ],
   "source": [
    "# 11. Write a program that calculates the roots of a quadratic equation\n",
    "\n",
    "import math\n",
    "\n",
    "a = float(input(\"Enter the coefficient of a: \"))\n",
    "b = float(input(\"Enter the coefficient of b: \"))\n",
    "c = float(input(\"Enter the coefficient of c: \"))\n",
    "\n",
    "discriminant = -b**2 - 4*a*c\n",
    "\n",
    "if discriminant > 0:\n",
    "    root1 = (-b + math.sqrt(discriminant) / (2*a))\n",
    "    root2 = (-b + math.sqrt(discriminant) / (2*a))\n",
    "    print(f\"the root are real and ditinct: {root1} and {root2}\")\n",
    "    \n",
    "elif discriminant == 0:\n",
    "    root1 = -b/(2*a)\n",
    "    prnit(f\"the root are real and equal: {root1}\")\n",
    "else:\n",
    "    real_part = -b/(2*a)\n",
    "    imaginary_part = math.sqrt(abs(discriminant)/(2*a))\n",
    "    \n",
    "    print(f\"the root are complex: {real_part} + {imaginary_part}i and {real_part} - {imaginary_part}i\")"
   ]
  },
  {
   "cell_type": "code",
   "execution_count": 6,
   "id": "583e803b-9791-47b9-a359-0b4afd9cdf86",
   "metadata": {},
   "outputs": [
    {
     "name": "stdin",
     "output_type": "stream",
     "text": [
      "Enter a number which is detrmine the day of the week 1\n"
     ]
    },
    {
     "name": "stdout",
     "output_type": "stream",
     "text": [
      "the day is Monday\n"
     ]
    }
   ],
   "source": [
    "# 12. Create a program that determines the day of the week based on the day number (1-7).\n",
    "\n",
    "user_input = int(input(\"Enter a number which is detrmine the day of the week\"))\n",
    "\n",
    "week_days = [\"Monday\",\"Tueday\",\"Wednesday\",\"thursday\",\"Friday\",\"Saturday\",\"Sunday\"]\n",
    "\n",
    "if 1<= user_input <=7:\n",
    "    day = week_days[user_input - 1]\n",
    "    print(f\"the day is {day}\")\n",
    "    \n",
    "else:\n",
    "    (\"the number which is entered by you is not satisfied the condition please enter number between 1 and 7\")"
   ]
  },
  {
   "cell_type": "code",
   "execution_count": 8,
   "id": "78733849-461a-43c6-a889-9c0379afbabb",
   "metadata": {},
   "outputs": [
    {
     "name": "stdin",
     "output_type": "stream",
     "text": [
      "Enter a non-negative integer to calculate its factorial:  12\n"
     ]
    },
    {
     "name": "stdout",
     "output_type": "stream",
     "text": [
      "The factorial of 12 is 479001600\n"
     ]
    }
   ],
   "source": [
    "# 13. Develop a program that calculates the factorial of a given number using recursion.\n",
    "\n",
    "def factorial(n):\n",
    "\n",
    "    if n == 0:\n",
    "        return 1\n",
    "    else:\n",
    "        \n",
    "        return n * factorial(n - 1)\n",
    "\n",
    "\n",
    "try:\n",
    "    num = int(input(\"Enter a non-negative integer to calculate its factorial: \"))\n",
    "    if num < 0:\n",
    "        print(\"Factorial is not defined for negative numbers.\")\n",
    "    else:\n",
    "        result = factorial(num)\n",
    "        print(f\"The factorial of {num} is {result}\")\n",
    "except ValueError:\n",
    "    print(\"Invalid input. Please enter a non-negative integer.\")\n"
   ]
  },
  {
   "cell_type": "code",
   "execution_count": 9,
   "id": "8343e4f5-e726-460e-b418-d700c890cc95",
   "metadata": {},
   "outputs": [
    {
     "name": "stdin",
     "output_type": "stream",
     "text": [
      "Enter the first number:  12\n",
      "Enter the second number:  13\n",
      "Enter the third number:  14\n"
     ]
    },
    {
     "name": "stdout",
     "output_type": "stream",
     "text": [
      "the largest numbers among 3 numbers is: 14.0\n"
     ]
    }
   ],
   "source": [
    "# 14. Write a program to find the largest among three numbers without using the `max()` function.\n",
    "\n",
    "num1 = float(input(\"Enter the first number: \"))\n",
    "num2 = float(input(\"Enter the second number: \"))\n",
    "num3 = float(input(\"Enter the third number: \"))\n",
    "\n",
    "\n",
    "if num1 > num2 and num1 > 3 :\n",
    "    largest_num = num1\n",
    "    \n",
    "elif num2> num3 and num2 > 1:\n",
    "    largest_num = num2\n",
    "    \n",
    "else:\n",
    "    largest_num = num3\n",
    "    \n",
    "print(f\"the largest numbers among 3 numbers is: {largest_num}\")"
   ]
  },
  {
   "cell_type": "code",
   "execution_count": 19,
   "id": "bf659b45-c2f0-4443-bf9b-8947ccbb4963",
   "metadata": {},
   "outputs": [
    {
     "name": "stdout",
     "output_type": "stream",
     "text": [
      "Welcome to the ATM Menu\n",
      "1. Check Balance\n",
      "2. Deposit Money\n",
      "3. Withdraw Money\n",
      "4. Exit\n"
     ]
    },
    {
     "name": "stdin",
     "output_type": "stream",
     "text": [
      "Please select an option (1/2/3/4):  4\n"
     ]
    },
    {
     "name": "stdout",
     "output_type": "stream",
     "text": [
      "Thank you for using the ATM. Have a nice day!\n"
     ]
    }
   ],
   "source": [
    "\n",
    "account_balance = 1000\n",
    "\n",
    "def display_menu():\n",
    "    print(\"Welcome to the ATM Menu\")\n",
    "    print(\"1. Check Balance\")\n",
    "    print(\"2. Deposit Money\")\n",
    "    print(\"3. Withdraw Money\")\n",
    "    print(\"4. Exit\")\n",
    "\n",
    "\n",
    "def check_balance(balance):\n",
    "    print(f\"Your account balance is: ₹{balance:.2f}\")\n",
    "\n",
    "# Function to deposit money\n",
    "def deposit_money(balance, amount):\n",
    "    balance += amount\n",
    "    print(f\"₹{amount:.2f} has been deposited into your account.\")\n",
    "    return balance\n",
    "\n",
    "def withdraw_money(balance, amount):\n",
    "    if amount > balance:\n",
    "        print(\"Insufficient funds. Withdrawal failed.\")\n",
    "    else:\n",
    "        balance -= amount\n",
    "        print(f\"₹{amount:.2f} has been withdrawn from your account.\")\n",
    "    return balance\n",
    "\n",
    "while True:\n",
    "    display_menu()\n",
    "    choice = input(\"Please select an option (1/2/3/4): \")\n",
    "\n",
    "    if choice == \"1\":\n",
    "        check_balance(account_balance)\n",
    "    elif choice == \"2\":\n",
    "        deposit_amount = float(input(\"Enter the deposit amount: ₹\"))\n",
    "        account_balance = deposit_money(account_balance, deposit_amount)\n",
    "    elif choice == \"3\":\n",
    "        withdraw_amount = float(input(\"Enter the withdrawal amount: ₹\"))\n",
    "        account_balance = withdraw_money(account_balance, withdraw_amount)\n",
    "    elif choice == \"4\":\n",
    "        print(\"Thank you for using the ATM. Have a nice day!\")\n",
    "        break\n",
    "    else:\n",
    "        print(\"Invalid choice. Please select a valid option (1/2/3/4)\")"
   ]
  },
  {
   "cell_type": "code",
   "execution_count": 20,
   "id": "154ae846-f8dd-4139-bee8-a9d4a64d6ada",
   "metadata": {},
   "outputs": [
    {
     "name": "stdin",
     "output_type": "stream",
     "text": [
      "Enter a string:  umar\n"
     ]
    },
    {
     "name": "stdout",
     "output_type": "stream",
     "text": [
      "The input string is not pallindrome\n"
     ]
    }
   ],
   "source": [
    "# 16. Build a program that checks if a given string is a palindrome or not.\n",
    "\n",
    "input_string = input(\"Enter a string: \")\n",
    "\n",
    "cleaned_string = input_string.replace(\" \", \"\").lower()\n",
    "\n",
    "reversed_string = cleaned_string[::-1]\n",
    "if cleaned_string == reversed_string:\n",
    "        print(\"The input string is pallindrome\")\n",
    "        \n",
    "else:\n",
    "            print(\"The input string is not pallindrome\")"
   ]
  },
  {
   "cell_type": "code",
   "execution_count": 22,
   "id": "90f1aa80-8387-4bc9-9a6b-80980980a61a",
   "metadata": {},
   "outputs": [
    {
     "name": "stdin",
     "output_type": "stream",
     "text": [
      "Enter a list of numbers separated by spaces:  1 2 3 4 5 6 7 8 9\n"
     ]
    },
    {
     "name": "stdout",
     "output_type": "stream",
     "text": [
      "The average (excluding extremes) is: 5.00\n"
     ]
    }
   ],
   "source": [
    "# 17. Write a program that calculates the average of a list of numbers, excluding the smallest and largest values.\n",
    "\n",
    "def calculate_average_without_extremes(numbers):\n",
    "    if len(numbers) < 3:\n",
    "        return 0  \n",
    "\n",
    "    numbers.remove(min(numbers))\n",
    "    numbers.remove(max(numbers))\n",
    "\n",
    "    total = sum(numbers)\n",
    "    average = total / len(numbers)\n",
    "    return average\n",
    "\n",
    "try:\n",
    "    input_numbers = input(\"Enter a list of numbers separated by spaces: \").split()\n",
    "    numbers = [float(num) for num in input_numbers]\n",
    "\n",
    "    average = calculate_average_without_extremes(numbers)\n",
    "    \n",
    "    if average != 0:\n",
    "        print(f\"The average (excluding extremes) is: {average:.2f}\")\n",
    "    else:\n",
    "        print(\"There are not enough elements to calculate the average.\")\n",
    "\n",
    "except ValueError:\n",
    "    print(\"Invalid input. Please enter a list of numeric values.\")\n"
   ]
  },
  {
   "cell_type": "code",
   "execution_count": 23,
   "id": "88976cba-c066-4ac4-8e21-006dfa9438a9",
   "metadata": {},
   "outputs": [
    {
     "name": "stdin",
     "output_type": "stream",
     "text": [
      "Enter temperature in celsius :  32\n"
     ]
    },
    {
     "name": "stdout",
     "output_type": "stream",
     "text": [
      "89.6\n"
     ]
    }
   ],
   "source": [
    "# 18. Develop a program that converts a given temperature from Celsius to Fahrenheit.\n",
    "\n",
    "celsius = float(input(\"Enter temperature in celsius : \"))\n",
    "\n",
    "farehnite = (celsius * 9/5)+32\n",
    "\n",
    "print(farehnite)"
   ]
  },
  {
   "cell_type": "code",
   "execution_count": 24,
   "id": "481316c9-5f18-4718-afae-3d8ec36906ac",
   "metadata": {},
   "outputs": [
    {
     "name": "stdout",
     "output_type": "stream",
     "text": [
      "Options:\n",
      "Enter 'add' for addition\n",
      "Enter 'subtract' for subtraction\n",
      "Enter 'multiply' for multiplication\n",
      "Enter 'divide' for division\n",
      "Enter 'quit' to end the program\n"
     ]
    },
    {
     "name": "stdin",
     "output_type": "stream",
     "text": [
      ":  add\n",
      "Enter first number:  1\n",
      "Enter second number:  2\n"
     ]
    },
    {
     "name": "stdout",
     "output_type": "stream",
     "text": [
      "Result: 3.0\n",
      "Options:\n",
      "Enter 'add' for addition\n",
      "Enter 'subtract' for subtraction\n",
      "Enter 'multiply' for multiplication\n",
      "Enter 'divide' for division\n",
      "Enter 'quit' to end the program\n"
     ]
    },
    {
     "name": "stdin",
     "output_type": "stream",
     "text": [
      ":  quit\n"
     ]
    }
   ],
   "source": [
    "# 19. Create a program that simulates a basic calculator for addition, subtraction, multiplication, and division.\n",
    "\n",
    "\n",
    "def add(x, y):\n",
    "    return x + y\n",
    "\n",
    "def subtract(x, y):\n",
    "    return x - y\n",
    "\n",
    "def multiply(x, y):\n",
    "    return x * y\n",
    "\n",
    "def divide(x, y):\n",
    "    if y == 0:\n",
    "        return \"Cannot divide by zero\"\n",
    "    return x / y\n",
    "\n",
    "\n",
    "while True:\n",
    "    \n",
    "    print(\"Options:\")\n",
    "    print(\"Enter 'add' for addition\")\n",
    "    print(\"Enter 'subtract' for subtraction\")\n",
    "    print(\"Enter 'multiply' for multiplication\")\n",
    "    print(\"Enter 'divide' for division\")\n",
    "    print(\"Enter 'quit' to end the program\")\n",
    "\n",
    "    user_input = input(\": \")\n",
    "\n",
    "    if user_input == \"quit\":\n",
    "        break\n",
    "    elif user_input in (\"add\", \"subtract\", \"multiply\", \"divide\"):\n",
    "        num1 = float(input(\"Enter first number: \"))\n",
    "        num2 = float(input(\"Enter second number: \"))\n",
    "\n",
    "        if user_input == \"add\":\n",
    "            result = add(num1, num2)\n",
    "        elif user_input == \"subtract\":\n",
    "            result = subtract(num1, num2)\n",
    "        elif user_input == \"multiply\":\n",
    "            result = multiply(num1, num2)\n",
    "        elif user_input == \"divide\":\n",
    "            result = divide(num1, num2)\n",
    "\n",
    "        print(f\"Result: {result}\")\n",
    "    else:\n",
    "        print(\"Invalid input. Please try again.\")\n",
    "\n"
   ]
  },
  {
   "cell_type": "code",
   "execution_count": 10,
   "id": "ffdf5708-96a1-41d0-8c44-b9d67b6abe50",
   "metadata": {},
   "outputs": [
    {
     "name": "stdin",
     "output_type": "stream",
     "text": [
      "Enter the coefficient 'a':  1\n",
      "Enter the coefficient 'b':  -6\n",
      "Enter the coefficient 'c':  11\n",
      "Enter the coefficient 'd':  -6\n"
     ]
    },
    {
     "name": "stdout",
     "output_type": "stream",
     "text": [
      "Roots of the cubic equation:\n",
      "Root: 5.000+0.000j\n",
      "Root: -1.000+0.000j\n",
      "Root: 2.000+0.000j\n"
     ]
    }
   ],
   "source": [
    "# 20. Write a program that determines the roots of a cubic equation using the Cardano formula.\n",
    "\n",
    "import cmath  # Import the complex math library for handling complex numbers\n",
    "\n",
    "# Function to find the roots of a cubic equation using the Cardano formula\n",
    "def find_cubic_roots(a, b, c, d):\n",
    "    discriminant1 = b**2 - 3*a*c\n",
    "    discriminant2 = 2*b**3 - 9*a*b*c + 27*a**2*d\n",
    "    delta = discriminant2**2 - 4*discriminant1**3\n",
    "\n",
    "    if delta > 0:\n",
    "        # Three real roots\n",
    "        C = ((-discriminant2 + cmath.sqrt(delta)) / 2)**(1/3)\n",
    "        D = ((-discriminant2 - cmath.sqrt(delta)) / 2)**(1/3)\n",
    "\n",
    "        root1 = (-b - C - D) / (3*a)\n",
    "        root2 = (-1 + 1j*cmath.sqrt(3)) * (C + D) / (6*a)\n",
    "        root3 = (-1 - 1j*cmath.sqrt(3)) * (C + D) / (6*a)\n",
    "\n",
    "        return root1, root2, root3\n",
    "\n",
    "    elif delta == 0:\n",
    "        # One real root and two complex roots\n",
    "        root1 = -b / (3*a)\n",
    "        root2 = root3 = (b + 2*delta**(1/3)) / (3*a)\n",
    "        return root1, root2, root3\n",
    "\n",
    "    else:\n",
    "        # Three real roots\n",
    "        R = (cmath.sqrt(delta) + -discriminant2) / 2\n",
    "        S = (R**(1/3))\n",
    "        T = (-discriminant2 - cmath.sqrt(delta)) / 2\n",
    "        U = (T**(1/3))\n",
    "\n",
    "        root1 = (S + U) - (b / (3*a))\n",
    "        root2 = -(S + U) / 2 - (b / (3*a)) + (1j * (S - U) * (cmath.sqrt(3))) / 2\n",
    "        root3 = -(S + U) / 2 - (b / (3*a)) - (1j * (S - U) * (cmath.sqrt(3))) / 2\n",
    "\n",
    "        return root1, root2, root3\n",
    "\n",
    "# Input coefficients of the cubic equation (ax^3 + bx^2 + cx + d = 0)\n",
    "a = float(input(\"Enter the coefficient 'a': \"))\n",
    "b = float(input(\"Enter the coefficient 'b': \"))\n",
    "c = float(input(\"Enter the coefficient 'c': \"))\n",
    "d = float(input(\"Enter the coefficient 'd': \"))\n",
    "\n",
    "# Find and display the roots\n",
    "roots = find_cubic_roots(a, b, c, d)\n",
    "print(\"Roots of the cubic equation:\")\n",
    "for root in roots:\n",
    "    print(f\"Root: {root:.3f}\")\n"
   ]
  },
  {
   "cell_type": "code",
   "execution_count": 14,
   "id": "30fe972a-93c5-4d64-9b03-d1bef1b17e45",
   "metadata": {},
   "outputs": [
    {
     "name": "stdin",
     "output_type": "stream",
     "text": [
      "Enter your annual income: ₹ 400000\n"
     ]
    },
    {
     "name": "stdout",
     "output_type": "stream",
     "text": [
      "Your income tax is: ₹141000.00\n"
     ]
    }
   ],
   "source": [
    "# 21. Create a program that calculates the income tax based on the user's income and tax brackets.\n",
    "\n",
    "tax_brackets = [\n",
    "    (10000, 0.10),\n",
    "    (40000, 0.20),\n",
    "    (80000, 0.30),\n",
    "    (float('inf'), 0.40)\n",
    "]\n",
    "\n",
    "def calculate_income_tax(income):\n",
    "    tax = 0\n",
    "    remaining_income = income\n",
    "    \n",
    "    for threshold, rate in tax_brackets:\n",
    "        if remaining_income <= 0:\n",
    "            break\n",
    "        if income > threshold:\n",
    "            taxable_income = threshold\n",
    "        else:\n",
    "            taxable_income = remaining_income\n",
    "        tax += taxable_income * rate\n",
    "        remaining_income -= taxable_income\n",
    "    \n",
    "    return tax\n",
    "\n",
    "try:\n",
    "    income = float(input(\"Enter your annual income: ₹\"))\n",
    "    \n",
    "    if income < 0:\n",
    "        print(\"Invalid income. Please enter a positive value.\")\n",
    "    else:\n",
    "        tax = calculate_income_tax(income)\n",
    "        print(f\"Your income tax is: ₹{tax:.2f}\")\n",
    "\n",
    "except ValueError:\n",
    "    print(\"Invalid input. Please enter a valid income as a number.\")\n"
   ]
  },
  {
   "cell_type": "code",
   "execution_count": 18,
   "id": "2908d072-dfcf-4577-b181-217c46a47588",
   "metadata": {},
   "outputs": [
    {
     "name": "stdin",
     "output_type": "stream",
     "text": [
      "Enter your choice (rock, paper, or scissors):  rocl\n"
     ]
    },
    {
     "name": "stdout",
     "output_type": "stream",
     "text": [
      "Invalid choice. Please choose 'rock', 'paper', or 'scissors'.\n"
     ]
    },
    {
     "name": "stdin",
     "output_type": "stream",
     "text": [
      "Enter your choice (rock, paper, or scissors):  rock\n"
     ]
    },
    {
     "name": "stdout",
     "output_type": "stream",
     "text": [
      "You chose rock.\n",
      "Computer chose scissors.\n",
      "You win!\n"
     ]
    },
    {
     "name": "stdin",
     "output_type": "stream",
     "text": [
      "Do you want to play again? (yes/no):  no\n"
     ]
    },
    {
     "name": "stdout",
     "output_type": "stream",
     "text": [
      "Thanks for playing!\n"
     ]
    }
   ],
   "source": [
    "import random\n",
    "\n",
    "def get_user_choice():\n",
    "    while True:\n",
    "        user_choice = input(\"Enter your choice (rock, paper, or scissors): \").lower()\n",
    "        if user_choice in (\"rock\", \"paper\", \"scissors\"):\n",
    "            return user_choice\n",
    "        else:\n",
    "            print(\"Invalid choice. Please choose 'rock', 'paper', or 'scissors'.\")\n",
    "\n",
    "def get_computer_choice():\n",
    "    choices = [\"rock\", \"paper\", \"scissors\"]\n",
    "    return random.choice(choices)\n",
    "\n",
    "def determine_winner(user_choice, computer_choice):\n",
    "    if user_choice == computer_choice:\n",
    "        return \"It's a tie!\"\n",
    "    if (\n",
    "        (user_choice == \"rock\" and computer_choice == \"scissors\") or\n",
    "        (user_choice == \"rock\" and computer_choice == \"paper\")or\n",
    "        (user_choice == \"scissors\" and computer_choice == \"paper\") or\n",
    "        (user_choice == \"paper\" and computer_choice == \"rock\")\n",
    "    ):\n",
    "        return \"You win!\"\n",
    "    else:\n",
    "        return \"Computer wins!\"\n",
    "\n",
    "while True:\n",
    "    user_choice = get_user_choice()\n",
    "    computer_choice = get_computer_choice()\n",
    "\n",
    "    print(f\"You chose {user_choice}.\")\n",
    "    print(f\"Computer chose {computer_choice}.\")\n",
    "\n",
    "    result = determine_winner(user_choice, computer_choice)\n",
    "    print(result)\n",
    "\n",
    "    play_again = input(\"Do you want to play again? (yes/no): \").lower()\n",
    "    if play_again != \"yes\":\n",
    "        break\n",
    "\n",
    "print(\"Thanks for playing!\")\n"
   ]
  },
  {
   "cell_type": "code",
   "execution_count": 26,
   "id": "232e4433-2dbd-4cc4-8ffa-ce0bf52ce20f",
   "metadata": {},
   "outputs": [
    {
     "name": "stdout",
     "output_type": "stream",
     "text": [
      "Password Generator\n"
     ]
    },
    {
     "name": "stdin",
     "output_type": "stream",
     "text": [
      "Enter the desired password length:  4\n",
      "Include lowercase letters? (yes/no):  no\n",
      "Include uppercase letters? (yes/no):  yes\n",
      "Include digits? (yes/no):  no\n",
      "Include special characters? (yes/no):  yes\n"
     ]
    },
    {
     "name": "stdout",
     "output_type": "stream",
     "text": [
      "Generated Password: \\Z?{\n"
     ]
    }
   ],
   "source": [
    "# 23. Develop a program that generates a random password based on user preferences (length, complexity).\n",
    "\n",
    "import random\n",
    "import string\n",
    "\n",
    "def generate_password(length, use_lowercase, use_uppercase, use_digits, use_special_chars):\n",
    "    characters = ''\n",
    "\n",
    "    if use_lowercase:\n",
    "        characters += string.ascii_lowercase\n",
    "    if use_uppercase:\n",
    "        characters += string.ascii_uppercase\n",
    "    if use_digits:\n",
    "        characters += string.digits\n",
    "    if use_special_chars:\n",
    "        characters += string.punctuation\n",
    "\n",
    "    if not characters:\n",
    "        print(\"Please select at least one character set for the password.\")\n",
    "        return None\n",
    "\n",
    "    password = ''.join(random.choice(characters) for _ in range(length))\n",
    "    return password\n",
    "\n",
    "# Input: User preferences for the password\n",
    "print(\"Password Generator\")\n",
    "\n",
    "length = int(input(\"Enter the desired password length: \"))\n",
    "use_lowercase = input(\"Include lowercase letters? (yes/no): \").lower() == 'yes'\n",
    "use_uppercase = input(\"Include uppercase letters? (yes/no): \").lower() == 'yes'\n",
    "use_digits = input(\"Include digits? (yes/no): \").lower() == 'yes'\n",
    "use_special_chars = input(\"Include special characters? (yes/no): \").lower() == 'yes'\n",
    "\n",
    "# Generate and display the password\n",
    "password = generate_password(length, use_lowercase, use_uppercase, use_digits, use_special_chars)\n",
    "\n",
    "if password:\n",
    "    print(\"Generated Password:\", password)\n"
   ]
  },
  {
   "cell_type": "code",
   "execution_count": 28,
   "id": "d7f1fb7d-0bf4-4583-8f38-ff0b9cee1205",
   "metadata": {},
   "outputs": [
    {
     "name": "stdout",
     "output_type": "stream",
     "text": [
      "Welcome to the Adventure Game!\n",
      "You find yourself in a dark forest. What do you do?\n",
      "1. Go deeper into the forest\n",
      "2. Turn back and head home\n"
     ]
    },
    {
     "name": "stdin",
     "output_type": "stream",
     "text": [
      "Enter the number of your choice:  1\n"
     ]
    },
    {
     "name": "stdout",
     "output_type": "stream",
     "text": [
      "You come across a fork in the path. Which way do you go?\n",
      "1. Take the left path\n",
      "2. Take the right path\n"
     ]
    },
    {
     "name": "stdin",
     "output_type": "stream",
     "text": [
      "Enter the number of your choice:  1\n"
     ]
    },
    {
     "name": "stdout",
     "output_type": "stream",
     "text": [
      "You enter a dark cave. It's too dark to see anything. What do you do?\n",
      "1. Light a torch and explore\n",
      "2. Turn back to the forest\n"
     ]
    },
    {
     "name": "stdin",
     "output_type": "stream",
     "text": [
      "Enter the number of your choice:  1\n"
     ]
    },
    {
     "name": "stdout",
     "output_type": "stream",
     "text": [
      "Congratulations! You found a hidden treasure. You win!\n",
      "Thanks for playing!\n"
     ]
    }
   ],
   "source": [
    "# 24. Create a program that implements a simple text-based adventure game with branching scenarios.\n",
    "# Function to handle the player's choice and return the next scenario\n",
    "def choose_scenario(prompt, options):\n",
    "    while True:\n",
    "        print(prompt)\n",
    "        for i, option in enumerate(options, start=1):\n",
    "            print(f\"{i}. {option[0]}\")\n",
    "        choice = input(\"Enter the number of your choice: \")\n",
    "        if choice.isnumeric() and 1 <= int(choice) <= len(options):\n",
    "            return options[int(choice) - 1][1]\n",
    "        else:\n",
    "            print(\"Invalid choice. Please enter a valid number.\")\n",
    "\n",
    "# Introduction and initial scenario\n",
    "print(\"Welcome to the Adventure Game!\")\n",
    "\n",
    "scenario = \"start\"\n",
    "\n",
    "while scenario != \"end\":\n",
    "    if scenario == \"start\":\n",
    "        scenario = choose_scenario(\n",
    "            \"You find yourself in a dark forest. What do you do?\",\n",
    "            [(\"Go deeper into the forest\", \"forest\"),\n",
    "             (\"Turn back and head home\", \"end\")])\n",
    "\n",
    "    elif scenario == \"forest\":\n",
    "        scenario = choose_scenario(\n",
    "            \"You come across a fork in the path. Which way do you go?\",\n",
    "            [(\"Take the left path\", \"cave\"),\n",
    "             (\"Take the right path\", \"river\")])\n",
    "\n",
    "    elif scenario == \"cave\":\n",
    "        scenario = choose_scenario(\n",
    "            \"You enter a dark cave. It's too dark to see anything. What do you do?\",\n",
    "            [(\"Light a torch and explore\", \"treasure\"),\n",
    "             (\"Turn back to the forest\", \"forest\")])\n",
    "\n",
    "    elif scenario == \"treasure\":\n",
    "        print(\"Congratulations! You found a hidden treasure. You win!\")\n",
    "        scenario = \"end\"\n",
    "\n",
    "    elif scenario == \"river\":\n",
    "        scenario = choose_scenario(\n",
    "            \"You arrive at a fast-flowing river. How do you cross?\",\n",
    "            [(\"Swim across\", \"sharks\"),\n",
    "             (\"Look for a bridge\", \"bridge\")])\n",
    "\n",
    "    elif scenario == \"sharks\":\n",
    "        print(\"You attempt to swim across the river but are attacked by sharks. Game over!\")\n",
    "        scenario = \"end\"\n",
    "\n",
    "    elif scenario == \"bridge\":\n",
    "        print(\"You find a sturdy bridge and safely cross the river.\")\n",
    "        print(\"You make your way out of the forest. Congratulations, you win!\")\n",
    "        scenario = \"end\"\n",
    "\n",
    "print(\"Thanks for playing!\")\n",
    "\n"
   ]
  },
  {
   "cell_type": "code",
   "execution_count": 34,
   "id": "f18ffa9e-8369-43df-a8e2-7cb16b90cfbf",
   "metadata": {},
   "outputs": [
    {
     "name": "stdin",
     "output_type": "stream",
     "text": [
      "Enter the coefficient a:  2\n",
      "Enter the coefficient b:  3\n",
      "Enter the constant c:  5\n"
     ]
    },
    {
     "name": "stdout",
     "output_type": "stream",
     "text": [
      "The solution is x = 1.0\n"
     ]
    }
   ],
   "source": [
    "# 25. Build a program that solves a linear equation for x, considering different cases.\n",
    "def solve_linear_equation(a, b, c):\n",
    "    if a == 0:\n",
    "        if b == c:\n",
    "            print(\"Infinite solutions (x can be any value)\")\n",
    "        else:\n",
    "            print(\"No solution (the equation is inconsistent)\")\n",
    "    else:\n",
    "        x = (c - b) / a\n",
    "        print(f\"The solution is x = {x}\")\n",
    "\n",
    "# Input coefficients a, b, and c\n",
    "a = float(input(\"Enter the coefficient a: \"))\n",
    "b = float(input(\"Enter the coefficient b: \"))\n",
    "c = float(input(\"Enter the constant c: \"))\n",
    "\n",
    "# Solve the linear equation\n",
    "solve_linear_equation(a, b, c)\n",
    "\n"
   ]
  },
  {
   "cell_type": "code",
   "execution_count": 35,
   "id": "ae1f551c-2fb7-4e02-ab03-b1b01d88d416",
   "metadata": {},
   "outputs": [
    {
     "name": "stdout",
     "output_type": "stream",
     "text": [
      "Welcome to the Quiz Game!\n",
      "What is the capital of France?\n",
      "1. a. London\n",
      "2. b. Paris\n",
      "3. c. Madrid\n"
     ]
    },
    {
     "name": "stdin",
     "output_type": "stream",
     "text": [
      "Your answer (enter the option number):  2\n"
     ]
    },
    {
     "name": "stdout",
     "output_type": "stream",
     "text": [
      "Correct! You earned a point.\n",
      "Which planet is known as the Red Planet?\n",
      "1. a. Venus\n",
      "2. b. Mars\n",
      "3. c. Jupiter\n"
     ]
    },
    {
     "name": "stdin",
     "output_type": "stream",
     "text": [
      "Your answer (enter the option number):  2\n"
     ]
    },
    {
     "name": "stdout",
     "output_type": "stream",
     "text": [
      "Correct! You earned a point.\n",
      "What is 2 + 2?\n",
      "1. a. 3\n",
      "2. b. 4\n",
      "3. c. 5\n"
     ]
    },
    {
     "name": "stdin",
     "output_type": "stream",
     "text": [
      "Your answer (enter the option number):  2\n"
     ]
    },
    {
     "name": "stdout",
     "output_type": "stream",
     "text": [
      "Correct! You earned a point.\n",
      "\n",
      "Quiz complete! Your score is 3/3.\n"
     ]
    }
   ],
   "source": [
    "# 26. Write a program that simulates a basic quiz game with multiple-choice questions and scoring.\n",
    "\n",
    "def ask_question(question, options, correct_option):\n",
    "    print(question)\n",
    "    for i, option in enumerate(options, 1):\n",
    "        print(f\"{i}. {option}\")\n",
    "\n",
    "    user_answer = int(input(\"Your answer (enter the option number): \"))\n",
    "    if user_answer == correct_option:\n",
    "        print(\"Correct! You earned a point.\")\n",
    "        return 1\n",
    "    else:\n",
    "        print(f\"Wrong! The correct answer was option {correct_option}.\")\n",
    "        return 0\n",
    "\n",
    "def main():\n",
    "    print(\"Welcome to the Quiz Game!\")\n",
    "    score = 0\n",
    "\n",
    "    questions = [\n",
    "        {\n",
    "            \"question\": \"What is the capital of France?\",\n",
    "            \"options\": [\"a. London\", \"b. Paris\", \"c. Madrid\"],\n",
    "            \"correct_option\": 2,\n",
    "        },\n",
    "        {\n",
    "            \"question\": \"Which planet is known as the Red Planet?\",\n",
    "            \"options\": [\"a. Venus\", \"b. Mars\", \"c. Jupiter\"],\n",
    "            \"correct_option\": 2,\n",
    "        },\n",
    "        {\n",
    "            \"question\": \"What is 2 + 2?\",\n",
    "            \"options\": [\"a. 3\", \"b. 4\", \"c. 5\"],\n",
    "            \"correct_option\": 2,\n",
    "        },\n",
    "    ]\n",
    "\n",
    "    for i, question_data in enumerate(questions, 1):\n",
    "        score += ask_question(question_data[\"question\"], question_data[\"options\"], question_data[\"correct_option\"])\n",
    "\n",
    "    print(f\"\\nQuiz complete! Your score is {score}/{len(questions)}.\")\n",
    "\n",
    "if __name__ == \"__main__\":\n",
    "    main()\n"
   ]
  },
  {
   "cell_type": "code",
   "execution_count": 41,
   "id": "e6697dab-266a-40c2-a23e-9abed019fc88",
   "metadata": {},
   "outputs": [
    {
     "name": "stdin",
     "output_type": "stream",
     "text": [
      "Enter a year:  1999\n"
     ]
    },
    {
     "name": "stdout",
     "output_type": "stream",
     "text": [
      "1999 is a prime year.\n"
     ]
    }
   ],
   "source": [
    "# 27. Develop a program that determines whether a given year is a prime number or not.\n",
    "\n",
    "try:\n",
    "    year = int(input(\"Enter a year: \"))\n",
    "    if year <= 1:\n",
    "        is_prime = False\n",
    "    elif year <= 3:\n",
    "        is_prime = True\n",
    "    elif year % 2 == 0 or year % 3 == 0:\n",
    "        is_prime = False\n",
    "    else:\n",
    "        is_prime = True\n",
    "        i = 5\n",
    "        while i * i <= year:\n",
    "            if year % i == 0 or year % (i + 2) == 0:\n",
    "                is_prime = False\n",
    "                break\n",
    "            i += 6\n",
    "\n",
    "    if is_prime:\n",
    "        print(f\"{year} is a prime year.\")\n",
    "    else:\n",
    "        print(f\"{year} is not a prime year.\")\n",
    "except ValueError:\n",
    "    print(\"Invalid input. Please enter a valid year.\")\n"
   ]
  },
  {
   "cell_type": "code",
   "execution_count": 42,
   "id": "18906542-d634-4649-bbab-edf40eed2fd8",
   "metadata": {},
   "outputs": [
    {
     "name": "stdin",
     "output_type": "stream",
     "text": [
      "Enter the first number:  12\n",
      "Enter the second number:  20\n",
      "Enter the third number:  60\n"
     ]
    },
    {
     "name": "stdout",
     "output_type": "stream",
     "text": [
      "Sorted numbers in ascending order: 12.0, 20.0, 60.0\n"
     ]
    }
   ],
   "source": [
    "# Input three numbers\n",
    "num1 = float(input(\"Enter the first number: \"))\n",
    "num2 = float(input(\"Enter the second number: \"))\n",
    "num3 = float(input(\"Enter the third number: \"))\n",
    "\n",
    "# Sorting using conditional statements\n",
    "if num1 <= num2 <= num3:\n",
    "    sorted_num1, sorted_num2, sorted_num3 = num1, num2, num3\n",
    "elif num1 <= num3 <= num2:\n",
    "    sorted_num1, sorted_num2, sorted_num3 = num1, num3, num2\n",
    "elif num2 <= num1 <= num3:\n",
    "    sorted_num1, sorted_num2, sorted_num3 = num2, num1, num3\n",
    "elif num2 <= num3 <= num1:\n",
    "    sorted_num1, sorted_num2, sorted_num3 = num2, num3, num1\n",
    "elif num3 <= num1 <= num2:\n",
    "    sorted_num1, sorted_num2, sorted_num3 = num3, num1, num2\n",
    "else:\n",
    "    sorted_num1, sorted_num2, sorted_num3 = num3, num2, num1\n",
    "\n",
    "# Display the sorted numbers\n",
    "print(\"Sorted numbers in ascending order: {}, {}, {}\".format(sorted_num1, sorted_num2, sorted_num3))\n",
    "\n"
   ]
  },
  {
   "cell_type": "code",
   "execution_count": 1,
   "id": "66b946d8-67a7-4739-b4f7-749b025a0ee7",
   "metadata": {},
   "outputs": [
    {
     "name": "stdin",
     "output_type": "stream",
     "text": [
      "Enter the coefficient of a:  3\n",
      "Enter the coefficient of b:  6\n",
      "Enter the coefficient of c:  9\n"
     ]
    },
    {
     "name": "stdout",
     "output_type": "stream",
     "text": [
      "the root are complex: -1.0 + 4.898979485566356i and -1.0 - 4.898979485566356i\n"
     ]
    }
   ],
   "source": [
    "# 29. Build a program that determines the roots of a quartic equation using numerical methods.\n",
    "\n",
    "import math\n",
    "\n",
    "a = float(input(\"Enter the coefficient of a: \"))\n",
    "b = float(input(\"Enter the coefficient of b: \"))\n",
    "c = float(input(\"Enter the coefficient of c: \"))\n",
    "\n",
    "discriminant = -b**2 - 4*a*c\n",
    "\n",
    "if discriminant > 0:\n",
    "    root1 = (-b + math.sqrt(discriminant) / (2*a))\n",
    "    root2 = (-b + math.sqrt(discriminant) / (2*a))\n",
    "    print(f\"the root are real and ditinct: {root1} and {root2}\")\n",
    "    \n",
    "elif discriminant == 0:\n",
    "    root1 = -b/(2*a)\n",
    "    prnit(f\"the root are real and equal: {root1}\")\n",
    "else:\n",
    "    real_part = -b/(2*a)\n",
    "    imaginary_part = math.sqrt(abs(discriminant)/(2*a))\n",
    "    \n",
    "    print(f\"the root are complex: {real_part} + {imaginary_part}i and {real_part} - {imaginary_part}i\")"
   ]
  },
  {
   "cell_type": "code",
   "execution_count": 5,
   "id": "97258f81-d9b7-44ca-8b7e-b113c195ab35",
   "metadata": {},
   "outputs": [
    {
     "name": "stdin",
     "output_type": "stream",
     "text": [
      "Enter your weight in kilograms:  70\n",
      "Enter your height in meters:  1.67\n"
     ]
    },
    {
     "name": "stdout",
     "output_type": "stream",
     "text": [
      "Your BMI is: 25.10\n",
      "You are overweight. Consider maintaining or losing weight for better health.\n"
     ]
    }
   ],
   "source": [
    "#30. Write a program that calculates the BMI (Body Mass Index) and provides health recommendations based\n",
    "# on the user's input.\n",
    "\n",
    "weight = float(input(\"Enter your weight in kilograms: \"))\n",
    "height = float(input(\"Enter your height in meters: \"))\n",
    "\n",
    "bmi = weight / (height ** 2)\n",
    "\n",
    "print(\"Your BMI is: {:.2f}\".format(bmi))\n",
    "\n",
    "if bmi < 18.5:\n",
    "    print(\"You are underweight. You may want to consider gaining some weight.\")\n",
    "elif 18.5 <= bmi < 24.9:\n",
    "    print(\"Your weight is in the healthy range. Keep up the good work!\")\n",
    "elif 25 <= bmi < 29.9:\n",
    "    print(\"You are overweight. Consider maintaining or losing weight for better health.\")\n",
    "else:\n",
    "    print(\"You are obese. It's important to focus on weight management for better health.\")\n",
    "\n",
    "\n"
   ]
  },
  {
   "cell_type": "code",
   "execution_count": 7,
   "id": "8b0c80e5-a38d-4d45-bc3f-47a69b694301",
   "metadata": {},
   "outputs": [
    {
     "name": "stdin",
     "output_type": "stream",
     "text": [
      "Enter a password:  Umar@123\n"
     ]
    },
    {
     "name": "stdout",
     "output_type": "stream",
     "text": [
      "Password is valid and meets complexity rules.\n"
     ]
    }
   ],
   "source": [
    "# 31. Create a program that validates a password based on complexity rules (length, characters, etc.).\n",
    "\n",
    "import re\n",
    "\n",
    "password = input(\"Enter a password: \")\n",
    "\n",
    "if len(password) < 8:\n",
    "    print(\"Password is too short. It must be at least 8 characters long.\")\n",
    "else:\n",
    "    \n",
    "    if not re.search(r'[a-z]', password):\n",
    "        print(\"Password must contain at least one lowercase letter.\")\n",
    "\n",
    "    if not re.search(r'[A-Z]', password):\n",
    "        print(\"Password must contain at least one uppercase letter.\")\n",
    "\n",
    "    if not re.search(r'[0-9]', password):\n",
    "        print(\"Password must contain at least one digit (0-9).\")\n",
    "\n",
    "    if not re.search(r'[!@#$%^&*(),.?\":{}|<>]', password):\n",
    "        print(\"Password must contain at least one special character (!@#$%^&*(),.?\\\":{}|<>).\")\n",
    "\n",
    "    if all([\n",
    "        len(password) >= 8,\n",
    "        re.search(r'[a-z]', password),\n",
    "        re.search(r'[A-Z]', password),\n",
    "        re.search(r'[0-9]', password),\n",
    "        re.search(r'[!@#$%^&*(),.?\":{}|<>]', password)\n",
    "    ]):\n",
    "        print(\"Password is valid and meets complexity rules.\")\n"
   ]
  },
  {
   "cell_type": "code",
   "execution_count": 8,
   "id": "061b2a47-a74a-47c5-b08f-6ced7c4ebb27",
   "metadata": {},
   "outputs": [
    {
     "name": "stdin",
     "output_type": "stream",
     "text": [
      "Enter the number of rows for the matrices:  3\n",
      "Enter the number of columns for the matrices:  3\n"
     ]
    },
    {
     "name": "stdout",
     "output_type": "stream",
     "text": [
      "Enter the elements for the first matrix:\n"
     ]
    },
    {
     "name": "stdin",
     "output_type": "stream",
     "text": [
      "Enter element at row 1, column 1:  1\n",
      "Enter element at row 1, column 2:  2\n",
      "Enter element at row 1, column 3:  3\n",
      "Enter element at row 2, column 1:  4\n",
      "Enter element at row 2, column 2:  5\n",
      "Enter element at row 2, column 3:  6\n",
      "Enter element at row 3, column 1:  7\n",
      "Enter element at row 3, column 2:  8\n",
      "Enter element at row 3, column 3:  9\n"
     ]
    },
    {
     "name": "stdout",
     "output_type": "stream",
     "text": [
      "Enter the elements for the second matrix:\n"
     ]
    },
    {
     "name": "stdin",
     "output_type": "stream",
     "text": [
      "Enter element at row 1, column 1:  9\n",
      "Enter element at row 1, column 2:  8\n",
      "Enter element at row 1, column 3:  7\n",
      "Enter element at row 2, column 1:  6\n",
      "Enter element at row 2, column 2:  5\n",
      "Enter element at row 2, column 3:  4\n",
      "Enter element at row 3, column 1:  3\n",
      "Enter element at row 3, column 2:  2\n",
      "Enter element at row 3, column 3:  1\n"
     ]
    },
    {
     "name": "stdout",
     "output_type": "stream",
     "text": [
      "\n",
      "Matrix Addition Result:\n",
      "[10.0, 10.0, 10.0]\n",
      "[10.0, 10.0, 10.0]\n",
      "[10.0, 10.0, 10.0]\n",
      "\n",
      "Matrix Subtraction Result:\n",
      "[-8.0, -6.0, -4.0]\n",
      "[-2.0, 0.0, 2.0]\n",
      "[4.0, 6.0, 8.0]\n"
     ]
    }
   ],
   "source": [
    "# 32. Develop a program that performs matrix addition and subtraction based on user input.\n",
    "\n",
    "# Get dimensions for matrices\n",
    "rows = int(input(\"Enter the number of rows for the matrices: \"))\n",
    "cols = int(input(\"Enter the number of columns for the matrices: \"))\n",
    "\n",
    "# Input the first matrix\n",
    "matrix1 = []\n",
    "print(\"Enter the elements for the first matrix:\")\n",
    "for i in range(rows):\n",
    "    row = []\n",
    "    for j in range(cols):\n",
    "        element = float(input(f\"Enter element at row {i + 1}, column {j + 1}: \"))\n",
    "        row.append(element)\n",
    "    matrix1.append(row)\n",
    "\n",
    "# Input the second matrix\n",
    "matrix2 = []\n",
    "print(\"Enter the elements for the second matrix:\")\n",
    "for i in range(rows):\n",
    "    row = []\n",
    "    for j in range(cols):\n",
    "        element = float(input(f\"Enter element at row {i + 1}, column {j + 1}: \"))\n",
    "        row.append(element)\n",
    "    matrix2.append(row)\n",
    "\n",
    "# Perform matrix addition\n",
    "result_add = [[matrix1[i][j] + matrix2[i][j] for j in range(cols)] for i in range(rows)]\n",
    "\n",
    "# Perform matrix subtraction\n",
    "result_subtract = [[matrix1[i][j] - matrix2[i][j] for j in range(cols)] for i in range(rows)]\n",
    "\n",
    "# Print the results\n",
    "print(\"\\nMatrix Addition Result:\")\n",
    "for row in result_add:\n",
    "    print(row)\n",
    "\n",
    "print(\"\\nMatrix Subtraction Result:\")\n",
    "for row in result_subtract:\n",
    "    print(row)\n"
   ]
  },
  {
   "cell_type": "code",
   "execution_count": 10,
   "id": "cfaec7b9-e111-4579-b95a-7fa31e834a1a",
   "metadata": {},
   "outputs": [
    {
     "name": "stdin",
     "output_type": "stream",
     "text": [
      "Enter the first number:  10\n",
      "Enter the second number:  15\n"
     ]
    },
    {
     "name": "stdout",
     "output_type": "stream",
     "text": [
      "The GCD of 10 and 15 is 5\n"
     ]
    }
   ],
   "source": [
    "# 33. Write a program that calculates the greatest common divisor (GCD) of two numbers using the Euclidean\n",
    "# algorithm.\n",
    "\n",
    "# Function to calculate the GCD using the Euclidean algorithm\n",
    "def euclidean_gcd(a, b):\n",
    "    while b:\n",
    "        a, b = b, a % b\n",
    "    return a\n",
    "\n",
    "# Input two numbers\n",
    "num1 = int(input(\"Enter the first number: \"))\n",
    "num2 = int(input(\"Enter the second number: \"))\n",
    "\n",
    "# Calculate the GCD\n",
    "gcd = euclidean_gcd(num1, num2)\n",
    "\n",
    "# Print the GCD\n",
    "print(f\"The GCD of {num1} and {num2} is {gcd}\")\n"
   ]
  },
  {
   "cell_type": "code",
   "execution_count": 11,
   "id": "4c491cbf-d401-428e-b62d-ff42ac88deae",
   "metadata": {},
   "outputs": [
    {
     "name": "stdin",
     "output_type": "stream",
     "text": [
      "Enter the number of rows for the first matrix:  2\n",
      "Enter the number of columns for the first matrix:  2\n",
      "Enter the number of rows for the second matrix:  2\n",
      "Enter the number of columns for the second matrix:  2\n"
     ]
    },
    {
     "name": "stdout",
     "output_type": "stream",
     "text": [
      "Enter the elements for the first matrix:\n"
     ]
    },
    {
     "name": "stdin",
     "output_type": "stream",
     "text": [
      "Enter element at row 1, column 1:  1\n",
      "Enter element at row 1, column 2:  2\n",
      "Enter element at row 2, column 1:  3\n",
      "Enter element at row 2, column 2:  4\n"
     ]
    },
    {
     "name": "stdout",
     "output_type": "stream",
     "text": [
      "Enter the elements for the second matrix:\n"
     ]
    },
    {
     "name": "stdin",
     "output_type": "stream",
     "text": [
      "Enter element at row 1, column 1:  4\n",
      "Enter element at row 1, column 2:  3\n",
      "Enter element at row 2, column 1:  2\n",
      "Enter element at row 2, column 2:  1\n"
     ]
    },
    {
     "name": "stdout",
     "output_type": "stream",
     "text": [
      "Matrix Multiplication Result:\n",
      "[8.0, 5.0]\n",
      "[20.0, 13.0]\n"
     ]
    }
   ],
   "source": [
    "# 34. Build a program that performs matrix multiplication using nested loops and conditional statements.\n",
    "\n",
    "# Get dimensions for the first matrix\n",
    "rows1 = int(input(\"Enter the number of rows for the first matrix: \"))\n",
    "cols1 = int(input(\"Enter the number of columns for the first matrix: \"))\n",
    "\n",
    "# Get dimensions for the second matrix\n",
    "rows2 = int(input(\"Enter the number of rows for the second matrix: \"))\n",
    "cols2 = int(input(\"Enter the number of columns for the second matrix: \"))\n",
    "\n",
    "# Check if multiplication is possible\n",
    "if cols1 != rows2:\n",
    "    print(\"Matrix multiplication is not possible. The number of columns in the first matrix must be equal to the number of rows in the second matrix.\")\n",
    "else:\n",
    "    # Input the first matrix\n",
    "    matrix1 = []\n",
    "    print(\"Enter the elements for the first matrix:\")\n",
    "    for i in range(rows1):\n",
    "        row = []\n",
    "        for j in range(cols1):\n",
    "            element = float(input(f\"Enter element at row {i + 1}, column {j + 1}: \"))\n",
    "            row.append(element)\n",
    "        matrix1.append(row)\n",
    "\n",
    "    # Input the second matrix\n",
    "    matrix2 = []\n",
    "    print(\"Enter the elements for the second matrix:\")\n",
    "    for i in range(rows2):\n",
    "        row = []\n",
    "        for j in range(cols2):\n",
    "            element = float(input(f\"Enter element at row {i + 1}, column {j + 1}: \"))\n",
    "            row.append(element)\n",
    "        matrix2.append(row)\n",
    "\n",
    "    # Perform matrix multiplication\n",
    "    result = [[0 for _ in range(cols2)] for _ in range(rows1)]\n",
    "    for i in range(rows1):\n",
    "        for j in range(cols2):\n",
    "            for k in range(cols1):\n",
    "                result[i][j] += matrix1[i][k] * matrix2[k][j]\n",
    "\n",
    "    # Print the result of matrix multiplication\n",
    "    print(\"Matrix Multiplication Result:\")\n",
    "    for row in result:\n",
    "        print(row)\n"
   ]
  },
  {
   "cell_type": "code",
   "execution_count": 21,
   "id": "5b6d2590-e830-4c86-a25b-05338a09575c",
   "metadata": {},
   "outputs": [
    {
     "name": "stdout",
     "output_type": "stream",
     "text": [
      "Welcome to Tic-Tac-Toe! You are 'X', and the computer is 'O'.\n",
      "  |   |  \n",
      "---------\n",
      "  |   |  \n",
      "---------\n",
      "  |   |  \n",
      "---------\n"
     ]
    },
    {
     "name": "stdin",
     "output_type": "stream",
     "text": [
      "Enter your move (row and column):  0 0\n"
     ]
    },
    {
     "name": "stdout",
     "output_type": "stream",
     "text": [
      "X |   |  \n",
      "---------\n",
      "  |   |  \n",
      "---------\n",
      "  |   |  \n",
      "---------\n",
      "Computer chooses row 1, col 2.\n",
      "X |   |  \n",
      "---------\n",
      "  |   | O\n",
      "---------\n",
      "  |   |  \n",
      "---------\n"
     ]
    },
    {
     "name": "stdin",
     "output_type": "stream",
     "text": [
      "Enter your move (row and column):  1 1\n"
     ]
    },
    {
     "name": "stdout",
     "output_type": "stream",
     "text": [
      "X |   |  \n",
      "---------\n",
      "  | X | O\n",
      "---------\n",
      "  |   |  \n",
      "---------\n",
      "Computer chooses row 2, col 0.\n",
      "X |   |  \n",
      "---------\n",
      "  | X | O\n",
      "---------\n",
      "O |   |  \n",
      "---------\n"
     ]
    },
    {
     "name": "stdin",
     "output_type": "stream",
     "text": [
      "Enter your move (row and column):  2 2\n"
     ]
    },
    {
     "name": "stdout",
     "output_type": "stream",
     "text": [
      "X |   |  \n",
      "---------\n",
      "  | X | O\n",
      "---------\n",
      "O |   | X\n",
      "---------\n",
      "X wins!\n"
     ]
    }
   ],
   "source": [
    "import random\n",
    "\n",
    "def print_board(board):\n",
    "    for row in board:\n",
    "        print(\" | \".join(row))\n",
    "        print(\"-\" * 9)\n",
    "\n",
    "def is_winner(board, player):\n",
    "    for row in board:\n",
    "        if all(cell == player for cell in row):\n",
    "            return True\n",
    "\n",
    "    for col in range(3):\n",
    "        if all(board[row][col] == player for row in range(3)):\n",
    "            return True\n",
    "\n",
    "    if all(board[i][i] == player for i in range(3)) or all(board[i][2 - i] == player for i in range(3)):\n",
    "        return True\n",
    "\n",
    "    return False\n",
    "\n",
    "def is_board_full(board):\n",
    "    return all(cell != \" \" for row in board for cell in row)\n",
    "\n",
    "def get_empty_cells(board):\n",
    "    return [(i, j) for i in range(3) for j in range(3) if board[i][j] == \" \"]\n",
    "\n",
    "def computer_move(board):\n",
    "    empty_cells = get_empty_cells(board)\n",
    "    return random.choice(empty_cells)\n",
    "\n",
    "def play_tic_tac_toe():\n",
    "    board = [[\" \" for _ in range(3)] for _ in range(3)\n",
    "    ]\n",
    "    player = \"X\"\n",
    "    computer = \"O\"\n",
    "\n",
    "    print(\"Welcome to Tic-Tac-Toe! You are 'X', and the computer is 'O'.\")\n",
    "    print_board(board)\n",
    "\n",
    "    while True:\n",
    "        if player == \"X\":\n",
    "            row, col = map(int, input(\"Enter your move (row and column): \").split())\n",
    "            if board[row][col] == \" \":\n",
    "                board[row][col] = player\n",
    "            else:\n",
    "                print(\"Invalid move. Try again.\")\n",
    "                continue\n",
    "        else:\n",
    "            row, col = computer_move(board)\n",
    "            print(f\"Computer chooses row {row}, col {col}.\")\n",
    "            board[row][col] = player\n",
    "\n",
    "        print_board(board)\n",
    "\n",
    "        if is_winner(board, player):\n",
    "            print(f\"{player} wins!\")\n",
    "            break\n",
    "        elif is_board_full(board):\n",
    "            print(\"It's a tie!\")\n",
    "            break\n",
    "\n",
    "        player, computer = computer, player\n",
    "\n",
    "if __name__ == \"__main__\":\n",
    "    play_tic_tac_toe()\n"
   ]
  },
  {
   "cell_type": "code",
   "execution_count": 22,
   "id": "21f38728-10ad-4973-a9d5-5a7d1e2d6787",
   "metadata": {},
   "outputs": [
    {
     "name": "stdin",
     "output_type": "stream",
     "text": [
      "Enter the number of Fibonacci terms to generate:  25\n"
     ]
    },
    {
     "name": "stdout",
     "output_type": "stream",
     "text": [
      "Fibonacci sequence up to term 25:\n",
      "0\n",
      "1\n",
      "1\n",
      "2\n",
      "3\n",
      "5\n",
      "8\n",
      "13\n",
      "21\n",
      "34\n",
      "55\n",
      "89\n",
      "144\n",
      "233\n",
      "377\n",
      "610\n",
      "987\n",
      "1597\n",
      "2584\n",
      "4181\n",
      "6765\n",
      "10946\n",
      "17711\n",
      "28657\n",
      "46368\n"
     ]
    }
   ],
   "source": [
    "def generate_fibonacci(n):\n",
    "    fibonacci_sequence = [0, 1]  # Initialize with the first two Fibonacci numbers\n",
    "\n",
    "    if n <= 0:\n",
    "        return []\n",
    "\n",
    "    while len(fibonacci_sequence) < n:\n",
    "        next_fib = fibonacci_sequence[-1] + fibonacci_sequence[-2]\n",
    "        fibonacci_sequence.append(next_fib)\n",
    "\n",
    "    return fibonacci_sequence\n",
    "\n",
    "# Get the number of terms you want to generate\n",
    "n = int(input(\"Enter the number of Fibonacci terms to generate: \"))\n",
    "\n",
    "if n <= 0:\n",
    "    print(\"Please enter a positive number.\")\n",
    "else:\n",
    "    fibonacci_numbers = generate_fibonacci(n)\n",
    "    print(\"Fibonacci sequence up to term {}:\".format(n))\n",
    "    for number in fibonacci_numbers:\n",
    "        print(number)\n"
   ]
  },
  {
   "cell_type": "code",
   "execution_count": 24,
   "id": "205e2d90-ddf6-4f61-b237-1426c2706f13",
   "metadata": {},
   "outputs": [
    {
     "name": "stdin",
     "output_type": "stream",
     "text": [
      "Enter the value of n for the Fibonacci sequence:  25\n"
     ]
    },
    {
     "name": "stdout",
     "output_type": "stream",
     "text": [
      "The 25-th Fibonacci number is: 75025\n"
     ]
    }
   ],
   "source": [
    "# Dictionary to store previously calculated Fibonacci numbers\n",
    "fib_cache = {}\n",
    "\n",
    "def fibonacci_with_memoization(n):\n",
    "    # Check if the result is already in the cache\n",
    "    if n in fib_cache:\n",
    "        return fib_cache[n]\n",
    "\n",
    "    # Calculate the Fibonacci number using recursion\n",
    "    if n <= 1:\n",
    "        result = n\n",
    "    else:\n",
    "        result = fibonacci_with_memoization(n - 1) + fibonacci_with_memoization(n - 2)\n",
    "\n",
    "    # Cache the result for future use\n",
    "    fib_cache[n] = result\n",
    "\n",
    "    return result\n",
    "\n",
    "# Get the value of n from the user\n",
    "n = int(input(\"Enter the value of n for the Fibonacci sequence: \"))\n",
    "\n",
    "if n < 0:\n",
    "    print(\"Please enter a non-negative integer.\")\n",
    "else:\n",
    "    # Calculate and print the nth Fibonacci number\n",
    "    result = fibonacci_with_memoization(n)\n",
    "    print(f\"The {n}-th Fibonacci number is: {result}\")\n"
   ]
  },
  {
   "cell_type": "code",
   "execution_count": 25,
   "id": "2514611c-4a6f-4874-a2ee-b0fb239b13e5",
   "metadata": {},
   "outputs": [
    {
     "name": "stdin",
     "output_type": "stream",
     "text": [
      "Enter the year:  2023\n",
      "Enter the month (1-12):  2\n"
     ]
    },
    {
     "name": "stdout",
     "output_type": "stream",
     "text": [
      "Calendar for February 2023:\n",
      "\n",
      "   February 2023\n",
      "Mo Tu We Th Fr Sa Su\n",
      "       1  2  3  4  5\n",
      " 6  7  8  9 10 11 12\n",
      "13 14 15 16 17 18 19\n",
      "20 21 22 23 24 25 26\n",
      "27 28\n",
      "\n"
     ]
    }
   ],
   "source": [
    "import calendar\n",
    "\n",
    "# Get the year and month from the user\n",
    "year = int(input(\"Enter the year: \"))\n",
    "month = int(input(\"Enter the month (1-12): \"))\n",
    "\n",
    "# Validate input\n",
    "if month < 1 or month > 12:\n",
    "    print(\"Invalid month. Please enter a month between 1 and 12.\")\n",
    "else:\n",
    "    # Generate and print the calendar for the specified month and year\n",
    "    cal = calendar.month(year, month)\n",
    "    print(f\"Calendar for {calendar.month_name[month]} {year}:\\n\")\n",
    "    print(cal)\n"
   ]
  },
  {
   "cell_type": "code",
   "execution_count": 26,
   "id": "92dc646a-9011-45ab-a7d8-21eba888e053",
   "metadata": {},
   "outputs": [
    {
     "name": "stdout",
     "output_type": "stream",
     "text": [
      "Welcome to Blackjack!\n"
     ]
    },
    {
     "name": "stdin",
     "output_type": "stream",
     "text": [
      "Do you want to play a game of Blackjack? Type 'y' or 'n':  y\n"
     ]
    },
    {
     "name": "stdout",
     "output_type": "stream",
     "text": [
      "Your cards: [6, 11], current score: 17\n",
      "Computer's first card: 10\n"
     ]
    },
    {
     "name": "stdin",
     "output_type": "stream",
     "text": [
      "Type 'y' to get another card, 'n' to pass:  n\n"
     ]
    },
    {
     "name": "stdout",
     "output_type": "stream",
     "text": [
      "Your final hand: [6, 11], final score: 17\n",
      "Computer's final hand: [10, 3, 8], final score: 21\n",
      "Computer got a Blackjack. You lose!\n"
     ]
    },
    {
     "name": "stdin",
     "output_type": "stream",
     "text": [
      "Do you want to play a game of Blackjack? Type 'y' or 'n':  n\n"
     ]
    }
   ],
   "source": [
    "# 39. Build a program that simulates a basic text-based blackjack game against the computer.\n",
    "\n",
    "import random\n",
    "\n",
    "def deal_card():\n",
    "    \"\"\"Deal a random card (2-11)\"\"\"\n",
    "    return random.randint(2, 11)\n",
    "\n",
    "def calculate_score(hand):\n",
    "    \"\"\"Calculate the total score of a hand\"\"\"\n",
    "    if sum(hand) == 21 and len(hand) == 2:\n",
    "        return 0  # Blackjack (special case)\n",
    "    if 11 in hand and sum(hand) > 21:\n",
    "        hand.remove(11)\n",
    "        hand.append(1)\n",
    "    return sum(hand)\n",
    "\n",
    "def blackjack_game():\n",
    "    player_hand = [deal_card(), deal_card()]\n",
    "    computer_hand = [deal_card(), deal_card()]\n",
    "    player_score = calculate_score(player_hand)\n",
    "    computer_score = calculate_score(computer_hand)\n",
    "\n",
    "    print(f\"Your cards: {player_hand}, current score: {player_score}\")\n",
    "    print(f\"Computer's first card: {computer_hand[0]}\")\n",
    "\n",
    "    while player_score < 21:\n",
    "        action = input(\"Type 'y' to get another card, 'n' to pass: \").lower()\n",
    "        if action == 'y':\n",
    "            player_hand.append(deal_card())\n",
    "            player_score = calculate_score(player_hand)\n",
    "            print(f\"Your cards: {player_hand}, current score: {player_score}\")\n",
    "        else:\n",
    "            break\n",
    "\n",
    "    while computer_score < 17:\n",
    "        computer_hand.append(deal_card())\n",
    "        computer_score = calculate_score(computer_hand)\n",
    "\n",
    "    print(f\"Your final hand: {player_hand}, final score: {player_score}\")\n",
    "    print(f\"Computer's final hand: {computer_hand}, final score: {computer_score}\")\n",
    "    print(compare(player_score, computer_score))\n",
    "\n",
    "def compare(player_score, computer_score):\n",
    "    if player_score > 21:\n",
    "        return \"You went over. You lose!\"\n",
    "    elif computer_score > 21:\n",
    "        return \"Computer went over. You win!\"\n",
    "    elif player_score == computer_score:\n",
    "        return \"It's a draw!\"\n",
    "    elif player_score == 21:\n",
    "        return \"Blackjack! You win!\"\n",
    "    elif computer_score == 21:\n",
    "        return \"Computer got a Blackjack. You lose!\"\n",
    "    elif player_score > computer_score:\n",
    "        return \"You win!\"\n",
    "    else:\n",
    "        return \"You lose!\"\n",
    "\n",
    "if __name__ == \"__main__\":\n",
    "    print(\"Welcome to Blackjack!\")\n",
    "    while input(\"Do you want to play a game of Blackjack? Type 'y' or 'n': \") == \"y\":\n",
    "        blackjack_game()\n"
   ]
  },
  {
   "cell_type": "code",
   "execution_count": null,
   "id": "83e9a1ed-5fb8-48eb-a1b0-57c71e152a01",
   "metadata": {},
   "outputs": [],
   "source": [
    "# import random\n",
    "\n",
    "def deal_card():\n",
    "    \"\"\"Deal a random card (2-11)\"\"\"\n",
    "    return random.randint(2, 11)\n",
    "\n",
    "def calculate_score(hand):\n",
    "    \"\"\"Calculate the total score of a hand\"\"\"\n",
    "    if sum(hand) == 21 and len(hand) == 2:\n",
    "        return 0  # Blackjack (special case)\n",
    "    if 11 in hand and sum(hand) > 21:\n",
    "        hand.remove(11)\n",
    "        hand.append(1)\n",
    "    return sum(hand)\n",
    "\n",
    "def blackjack_game():\n",
    "    player_hand = [deal_card(), deal_card()]\n",
    "    computer_hand = [deal_card(), deal_card()]\n",
    "    player_score = calculate_score(player_hand)\n",
    "    computer_score = calculate_score(computer_hand)\n",
    "\n",
    "    print(f\"Your cards: {player_hand}, current score: {player_score}\")\n",
    "    print(f\"Computer's first card: {computer_hand[0]}\")\n",
    "\n",
    "    while player_score < 21:\n",
    "        action = input(\"Type 'y' to get another card, 'n' to pass: \").lower()\n",
    "        if action == 'y':\n",
    "            player_hand.append(deal_card())\n",
    "            player_score = calculate_score(player_hand)\n",
    "            print(f\"Your cards: {player_hand}, current score: {player_score}\")\n",
    "        else:\n",
    "            break\n",
    "\n",
    "    while computer_score < 17:\n",
    "        computer_hand.append(deal_card())\n",
    "        computer_score = calculate_score(computer_hand)\n",
    "\n",
    "    print(f\"Your final hand: {player_hand}, final score: {player_score}\")\n",
    "    print(f\"Computer's final hand: {computer_hand}, final score: {computer_score}\")\n",
    "    print(compare(player_score, computer_score))\n",
    "\n",
    "def compare(player_score, computer_score):\n",
    "    if player_score > 21:\n",
    "        return \"You went over. You lose!\"\n",
    "    elif computer_score > 21:\n",
    "        return \"Computer went over. You win!\"\n",
    "    elif player_score == computer_score:\n",
    "        return \"It's a draw!\"\n",
    "    elif player_score == 21:\n",
    "        return \"Blackjack! You win!\"\n",
    "    elif computer_score == 21:\n",
    "        return \"Computer got a Blackjack. You lose!\"\n",
    "    elif player_score > computer_score:\n",
    "        return \"You win!\"\n",
    "    else:\n",
    "        return \"You lose!\"\n",
    "\n",
    "if __name__ == \"__main__\":\n",
    "    print(\"Welcome to Blackjack!\")\n",
    "    while input(\"Do you want to play a game of Blackjack? Type 'y' or 'n': \") == \"y\":\n",
    "        blackjack_game()\n"
   ]
  }
 ],
 "metadata": {
  "kernelspec": {
   "display_name": "Python 3 (ipykernel)",
   "language": "python",
   "name": "python3"
  },
  "language_info": {
   "codemirror_mode": {
    "name": "ipython",
    "version": 3
   },
   "file_extension": ".py",
   "mimetype": "text/x-python",
   "name": "python",
   "nbconvert_exporter": "python",
   "pygments_lexer": "ipython3",
   "version": "3.10.8"
  }
 },
 "nbformat": 4,
 "nbformat_minor": 5
}
